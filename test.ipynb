{
 "cells": [
  {
   "cell_type": "code",
   "execution_count": 1,
   "metadata": {},
   "outputs": [
    {
     "ename": "ModuleNotFoundError",
     "evalue": "No module named 'deep_sdf'",
     "output_type": "error",
     "traceback": [
      "\u001b[0;31m---------------------------------------------------------------------------\u001b[0m",
      "\u001b[0;31mModuleNotFoundError\u001b[0m                       Traceback (most recent call last)",
      "\u001b[1;32m/home/wulff/deepsdf/deep_sdf/helper_runscripts/test.ipynb Cell 1\u001b[0m in \u001b[0;36m<cell line: 20>\u001b[0;34m()\u001b[0m\n\u001b[1;32m     <a href='vscode-notebook-cell://ssh-remote%2Bvc02.vc.in.tum.de/home/wulff/deepsdf/deep_sdf/helper_runscripts/test.ipynb#W0sdnNjb2RlLXJlbW90ZQ%3D%3D?line=17'>18</a>\u001b[0m \u001b[39mimport\u001b[39;00m \u001b[39mtrimesh\u001b[39;00m\n\u001b[1;32m     <a href='vscode-notebook-cell://ssh-remote%2Bvc02.vc.in.tum.de/home/wulff/deepsdf/deep_sdf/helper_runscripts/test.ipynb#W0sdnNjb2RlLXJlbW90ZQ%3D%3D?line=18'>19</a>\u001b[0m \u001b[39mimport\u001b[39;00m \u001b[39mio\u001b[39;00m\n\u001b[0;32m---> <a href='vscode-notebook-cell://ssh-remote%2Bvc02.vc.in.tum.de/home/wulff/deepsdf/deep_sdf/helper_runscripts/test.ipynb#W0sdnNjb2RlLXJlbW90ZQ%3D%3D?line=19'>20</a>\u001b[0m \u001b[39mfrom\u001b[39;00m \u001b[39mdeep_sdf\u001b[39;00m \u001b[39mimport\u001b[39;00m utils, metrics, plotting\n\u001b[1;32m     <a href='vscode-notebook-cell://ssh-remote%2Bvc02.vc.in.tum.de/home/wulff/deepsdf/deep_sdf/helper_runscripts/test.ipynb#W0sdnNjb2RlLXJlbW90ZQ%3D%3D?line=20'>21</a>\u001b[0m \u001b[39mimport\u001b[39;00m \u001b[39mmath\u001b[39;00m\n\u001b[1;32m     <a href='vscode-notebook-cell://ssh-remote%2Bvc02.vc.in.tum.de/home/wulff/deepsdf/deep_sdf/helper_runscripts/test.ipynb#W0sdnNjb2RlLXJlbW90ZQ%3D%3D?line=21'>22</a>\u001b[0m \u001b[39mimport\u001b[39;00m \u001b[39mpandas\u001b[39;00m \u001b[39mas\u001b[39;00m \u001b[39mpd\u001b[39;00m\n",
      "\u001b[0;31mModuleNotFoundError\u001b[0m: No module named 'deep_sdf'"
     ]
    }
   ],
   "source": [
    "%load_ext autoreload\n",
    "%autoreload 2\n",
    "\n",
    "import matplotlib.animation as animation\n",
    "\n",
    "from torch.utils.data import Dataset\n",
    "import binvox\n",
    "import os\n",
    "import json\n",
    "import trimesh\n",
    "import skimage\n",
    "import random\n",
    "from mesh_to_sdf import mesh_to_voxels, sample_sdf_near_surface, scale_to_unit_sphere\n",
    "import mesh_to_sdf\n",
    "import pyrender\n",
    "import numpy as np\n",
    "import matplotlib.pyplot as plt\n",
    "import trimesh\n",
    "import io\n",
    "from deep_sdf import utils, metrics, plotting\n",
    "import math\n",
    "import pandas as pd\n",
    "\n",
    "\n",
    "import os\n",
    "os.environ['PYOPENGL_PLATFORM'] = 'egl'"
   ]
  },
  {
   "cell_type": "code",
   "execution_count": 5,
   "metadata": {},
   "outputs": [],
   "source": [
    "plane_gt = \"/mnt/hdd/ShapeNetCore.v2/02691156/12c82319147385e7ef0e1705c5c9e361/models/model_normalized.obj\"\n",
    "plane_recon = \"examples/plane_ours/TensorBoard/ReconstructionsTrain/02691156_12c82319147385e7ef0e1705c5c9e361/train_mesh_epoch=2020.ply\"\n",
    "plane_recon = \"examples/plane_ours/TensorBoard/ReconstructionsTrain/02691156_12c82319147385e7ef0e1705c5c9e361/train_mesh_epoch=120.ply\""
   ]
  },
  {
   "cell_type": "code",
   "execution_count": 6,
   "metadata": {},
   "outputs": [],
   "source": [
    "gt_mesh = utils.as_mesh(trimesh.load_mesh(plane_gt))\n",
    "recon_mesh = utils.as_mesh(trimesh.load_mesh(plane_recon))"
   ]
  },
  {
   "cell_type": "code",
   "execution_count": 7,
   "metadata": {},
   "outputs": [
    {
     "data": {
      "text/plain": [
       "0.07700319746289094"
      ]
     },
     "execution_count": 7,
     "metadata": {},
     "output_type": "execute_result"
    }
   ],
   "source": [
    "metrics.compute_metric(gt_mesh, recon_mesh)"
   ]
  },
  {
   "cell_type": "code",
   "execution_count": 15,
   "metadata": {},
   "outputs": [
    {
     "ename": "AttributeError",
     "evalue": "'Scene' object has no attribute 'area_faces'",
     "output_type": "error",
     "traceback": [
      "\u001b[0;31m---------------------------------------------------------------------------\u001b[0m",
      "\u001b[0;31mAttributeError\u001b[0m                            Traceback (most recent call last)",
      "\u001b[1;32m/home/wulff/deepsdf/test.ipynb Cell 5\u001b[0m in \u001b[0;36m<cell line: 1>\u001b[0;34m()\u001b[0m\n\u001b[0;32m----> <a href='vscode-notebook-cell://ssh-remote%2Bvc02.vc.in.tum.de/home/wulff/deepsdf/test.ipynb#W5sdnNjb2RlLXJlbW90ZQ%3D%3D?line=0'>1</a>\u001b[0m metrics\u001b[39m.\u001b[39;49mcompute_metric(trimesh\u001b[39m.\u001b[39;49mload_mesh(plane_gt), trimesh\u001b[39m.\u001b[39;49mload_mesh(plane_recon))\n",
      "File \u001b[0;32m~/deepsdf/deep_sdf/metrics/__init__.py:10\u001b[0m, in \u001b[0;36mcompute_metric\u001b[0;34m(gt_mesh, gen_mesh, num_mesh_samples, metric)\u001b[0m\n\u001b[1;32m      8\u001b[0m     gt_mesh \u001b[39m=\u001b[39m as_mesh(trimesh\u001b[39m.\u001b[39mload_mesh(gt_mesh))\n\u001b[1;32m      9\u001b[0m gen_points_sampled \u001b[39m=\u001b[39m trimesh\u001b[39m.\u001b[39msample\u001b[39m.\u001b[39msample_surface(gen_mesh, num_mesh_samples)[\u001b[39m0\u001b[39m]\n\u001b[0;32m---> 10\u001b[0m gt_points_sampled \u001b[39m=\u001b[39m trimesh\u001b[39m.\u001b[39;49msample\u001b[39m.\u001b[39;49msample_surface(gt_mesh, num_mesh_samples)[\u001b[39m0\u001b[39m]\n\u001b[1;32m     11\u001b[0m \u001b[39mif\u001b[39;00m metric \u001b[39m==\u001b[39m \u001b[39m\"\u001b[39m\u001b[39mchamfer\u001b[39m\u001b[39m\"\u001b[39m:\n\u001b[1;32m     12\u001b[0m     \u001b[39mreturn\u001b[39;00m compute_chamfer(gen_points_sampled, gt_points_sampled)\n",
      "File \u001b[0;32m~/anaconda3/envs/deepcomp/lib/python3.8/site-packages/trimesh/sample.py:49\u001b[0m, in \u001b[0;36msample_surface\u001b[0;34m(mesh, count, face_weight, sample_color)\u001b[0m\n\u001b[1;32m     16\u001b[0m \u001b[39m\"\"\"\u001b[39;00m\n\u001b[1;32m     17\u001b[0m \u001b[39mSample the surface of a mesh, returning the specified\u001b[39;00m\n\u001b[1;32m     18\u001b[0m \u001b[39mnumber of points\u001b[39;00m\n\u001b[0;32m   (...)\u001b[0m\n\u001b[1;32m     43\u001b[0m \u001b[39m  Returns only when the sample_color is True\u001b[39;00m\n\u001b[1;32m     44\u001b[0m \u001b[39m\"\"\"\u001b[39;00m\n\u001b[1;32m     46\u001b[0m \u001b[39mif\u001b[39;00m face_weight \u001b[39mis\u001b[39;00m \u001b[39mNone\u001b[39;00m:\n\u001b[1;32m     47\u001b[0m     \u001b[39m# len(mesh.faces) float, array of the areas\u001b[39;00m\n\u001b[1;32m     48\u001b[0m     \u001b[39m# of each face of the mesh\u001b[39;00m\n\u001b[0;32m---> 49\u001b[0m     face_weight \u001b[39m=\u001b[39m mesh\u001b[39m.\u001b[39;49marea_faces\n\u001b[1;32m     51\u001b[0m \u001b[39m# cumulative sum of weights (len(mesh.faces))\u001b[39;00m\n\u001b[1;32m     52\u001b[0m weight_cum \u001b[39m=\u001b[39m np\u001b[39m.\u001b[39mcumsum(face_weight)\n",
      "\u001b[0;31mAttributeError\u001b[0m: 'Scene' object has no attribute 'area_faces'"
     ]
    }
   ],
   "source": [
    "metrics.compute_metric(trimesh.load_mesh(plane_gt), trimesh.load_mesh(plane_recon))\n"
   ]
  },
  {
   "cell_type": "code",
   "execution_count": 2,
   "metadata": {},
   "outputs": [
    {
     "ename": "NameError",
     "evalue": "name 'plane_gt' is not defined",
     "output_type": "error",
     "traceback": [
      "\u001b[0;31m---------------------------------------------------------------------------\u001b[0m",
      "\u001b[0;31mNameError\u001b[0m                                 Traceback (most recent call last)",
      "\u001b[1;32m/home/wulff/deepsdf/test.ipynb Cell 6\u001b[0m in \u001b[0;36m<cell line: 1>\u001b[0;34m()\u001b[0m\n\u001b[0;32m----> <a href='vscode-notebook-cell://ssh-remote%2Bvc02.vc.in.tum.de/home/wulff/deepsdf/test.ipynb#W5sdnNjb2RlLXJlbW90ZQ%3D%3D?line=0'>1</a>\u001b[0m metrics\u001b[39m.\u001b[39mcompute_metric(trimesh\u001b[39m.\u001b[39mload_mesh(plane_gt), trimesh\u001b[39m.\u001b[39mload_mesh(plane_recon))\n",
      "\u001b[0;31mNameError\u001b[0m: name 'plane_gt' is not defined"
     ]
    }
   ],
   "source": [
    "metrics.compute_metric(trimesh.load_mesh(plane_gt), trimesh.load_mesh(plane_recon))\n"
   ]
  },
  {
   "cell_type": "code",
   "execution_count": 4,
   "metadata": {},
   "outputs": [
    {
     "name": "stdout",
     "output_type": "stream",
     "text": [
      "EPOCH:  200\n"
     ]
    },
    {
     "ename": "TypeError",
     "evalue": "unsupported format string passed to tuple.__format__",
     "output_type": "error",
     "traceback": [
      "\u001b[0;31m---------------------------------------------------------------------------\u001b[0m",
      "\u001b[0;31mTypeError\u001b[0m                                 Traceback (most recent call last)",
      "\u001b[1;32m/home/wulff/deepsdf/test.ipynb Cell 7\u001b[0m in \u001b[0;36m<cell line: 1>\u001b[0;34m()\u001b[0m\n\u001b[1;32m     <a href='vscode-notebook-cell://ssh-remote%2Bvc02.vc.in.tum.de/home/wulff/deepsdf/test.ipynb#W6sdnNjb2RlLXJlbW90ZQ%3D%3D?line=13'>14</a>\u001b[0m     recon_mesh \u001b[39m=\u001b[39m utils\u001b[39m.\u001b[39mas_mesh(trimesh\u001b[39m.\u001b[39mload_mesh(recon_path))\n\u001b[1;32m     <a href='vscode-notebook-cell://ssh-remote%2Bvc02.vc.in.tum.de/home/wulff/deepsdf/test.ipynb#W6sdnNjb2RlLXJlbW90ZQ%3D%3D?line=14'>15</a>\u001b[0m     cd \u001b[39m=\u001b[39m metrics\u001b[39m.\u001b[39mcompute_metric(gt_mesh, recon_mesh, num_mesh_samples\u001b[39m=\u001b[39m\u001b[39m30000\u001b[39m)\n\u001b[0;32m---> <a href='vscode-notebook-cell://ssh-remote%2Bvc02.vc.in.tum.de/home/wulff/deepsdf/test.ipynb#W6sdnNjb2RlLXJlbW90ZQ%3D%3D?line=15'>16</a>\u001b[0m     \u001b[39mprint\u001b[39m(\u001b[39mf\u001b[39m\u001b[39m\"\u001b[39m\u001b[39mShape \u001b[39m\u001b[39m{\u001b[39;00mshape_id\u001b[39m}\u001b[39;00m\u001b[39m from class \u001b[39m\u001b[39m{\u001b[39;00mclass_id\u001b[39m}\u001b[39;00m\u001b[39m with CD=\u001b[39m\u001b[39m{\u001b[39;00mcd\u001b[39m:\u001b[39;00m\u001b[39m.3f\u001b[39m\u001b[39m}\u001b[39;00m\u001b[39m\"\u001b[39m)\n\u001b[1;32m     <a href='vscode-notebook-cell://ssh-remote%2Bvc02.vc.in.tum.de/home/wulff/deepsdf/test.ipynb#W6sdnNjb2RlLXJlbW90ZQ%3D%3D?line=16'>17</a>\u001b[0m     cds\u001b[39m.\u001b[39mappend(cd)\n\u001b[1;32m     <a href='vscode-notebook-cell://ssh-remote%2Bvc02.vc.in.tum.de/home/wulff/deepsdf/test.ipynb#W6sdnNjb2RlLXJlbW90ZQ%3D%3D?line=17'>18</a>\u001b[0m \u001b[39mprint\u001b[39m(\u001b[39mf\u001b[39m\u001b[39m\"\u001b[39m\u001b[39mAvg CD=\u001b[39m\u001b[39m{\u001b[39;00m\u001b[39msum\u001b[39m(cds)\u001b[39m/\u001b[39m\u001b[39mlen\u001b[39m(cds)\u001b[39m:\u001b[39;00m\u001b[39m.4f\u001b[39m\u001b[39m}\u001b[39;00m\u001b[39m\"\u001b[39m)\n",
      "\u001b[0;31mTypeError\u001b[0m: unsupported format string passed to tuple.__format__"
     ]
    }
   ],
   "source": [
    "for epoch in [200, 400, 600, 800, 1000]:\n",
    "    print(\"EPOCH: \", epoch)\n",
    "    get_recon_path = lambda class_id, shape_id: f\"/home/shared/deepsdfcomp/searches/ffe_100_shapes/exp_0011_CodeLength=60_encoding_features=23_encoding_sigma=0.783/TensorBoard/ReconstructionsTrain/{class_id}_{shape_id}/epoch={epoch}.ply\"\n",
    "    get_gt_path = lambda class_id, shape_id: f\"/mnt/hdd/ShapeNetCore.v2/{class_id}/{shape_id}/models/model_normalized.obj\"\n",
    "\n",
    "    reconstr_dirs = os.listdir(\"/home/shared/deepsdfcomp/searches/ffe_100_shapes/exp_0011_CodeLength=60_encoding_features=23_encoding_sigma=0.783/TensorBoard/ReconstructionsTrain\")\n",
    "    shapes = [dir_name.split(\"_\") for dir_name in reconstr_dirs]\n",
    "\n",
    "    cds = []\n",
    "    for (class_id, shape_id) in shapes:\n",
    "        gt_path = get_gt_path(class_id, shape_id)\n",
    "        gt_mesh = utils.as_mesh(trimesh.load_mesh(gt_path))\n",
    "        recon_path = get_recon_path(class_id, shape_id)\n",
    "        recon_mesh = utils.as_mesh(trimesh.load_mesh(recon_path))\n",
    "        cd = metrics.compute_metric(gt_mesh, recon_mesh, num_mesh_samples=30000)\n",
    "        print(f\"Shape {shape_id} from class {class_id} with CD={cd:.3f}\")\n",
    "        cds.append(cd)\n",
    "    print(f\"Avg CD={sum(cds)/len(cds):.4f}\")"
   ]
  },
  {
   "cell_type": "code",
   "execution_count": 5,
   "metadata": {},
   "outputs": [
    {
     "data": {
      "text/plain": [
       "[['02691156', '122963149f6a04272620819ddac40644'],\n",
       " ['02691156', '124062ccaeae95085e9e2656aff7dd5b'],\n",
       " ['02691156', '1628b65a9f3cd7c05e9e2656aff7dd5b'],\n",
       " ['02691156', '144070f63941362bd1810447902e2904'],\n",
       " ['02691156', '10cfc2090a2ade124c3a35cee92bb95b']]"
      ]
     },
     "execution_count": 5,
     "metadata": {},
     "output_type": "execute_result"
    }
   ],
   "source": [
    "gt_mesh = utils.as_mesh(trimesh.load_mesh(plane_gt))\n",
    "recon_mesh = utils.as_mesh(trimesh.load_mesh(plane_recon))"
   ]
  },
  {
   "cell_type": "code",
   "execution_count": 3,
   "metadata": {},
   "outputs": [
    {
     "data": {
      "text/plain": [
       "5.876217082101655e-06"
      ]
     },
     "execution_count": 3,
     "metadata": {},
     "output_type": "execute_result"
    }
   ],
   "source": [
    "metrics.compute_metric(gt_mesh, gt_mesh, num_mesh_samples=30000)"
   ]
  },
  {
   "cell_type": "code",
   "execution_count": 5,
   "metadata": {},
   "outputs": [],
   "source": [
    "cd, all_dists = metrics.compute_metric(recon_mesh, recon_mesh, num_mesh_samples=30000)"
   ]
  },
  {
   "cell_type": "code",
   "execution_count": 27,
   "metadata": {},
   "outputs": [
    {
     "data": {
      "image/png": "[encoded data removed]",
      "text/plain": [
       "<Figure size 432x288 with 1 Axes>"
      ]
     },
     "execution_count": 27,
     "metadata": {},
     "output_type": "execute_result"
    },
    {
     "data": {
      "image/png": "[encoded data removed]",
      "text/plain": [
       "<Figure size 432x288 with 1 Axes>"
      ]
     },
     "metadata": {
      "needs_background": "light"
     },
     "output_type": "display_data"
    }
   ],
   "source": [
    "plotting.plot_dist_violin(all_dists)"
   ]
  },
  {
   "cell_type": "code",
   "execution_count": 2,
   "metadata": {},
   "outputs": [],
   "source": []
  },
  {
   "cell_type": "code",
   "execution_count": 16,
   "metadata": {},
   "outputs": [
    {
     "name": "stdout",
     "output_type": "stream",
     "text": [
      "Box\n",
      "CD1:  6.345233230725315e-05\n",
      "CD12 expected:  0.3333333333333333\n",
      "CD12:  0.09682890734703407\n"
     ]
    }
   ],
   "source": [
    "print(\"Box\")\n",
    "\n",
    "box1 = trimesh.primitives.Box(extents=[1, 1, 1])\n",
    "box2 = trimesh.primitives.Box(extents=[1, 1, 2])\n",
    "\n",
    "num_mesh_samples = 60000\n",
    "cd1, _ = metrics.compute_metric(box1, box1, num_mesh_samples=num_mesh_samples)\n",
    "print(\"CD1: \", cd1)\n",
    "\n",
    "num_mesh_samples_per_side = num_mesh_samples / 6\n",
    "cd12_expected = 0 + (2 * num_mesh_samples_per_side * 0.5) / num_mesh_samples\n",
    "cd12_expected *= 2      # two-way\n",
    "print(\"CD12 expected: \", cd12_expected)\n",
    "\n",
    "cd12, _ = metrics.compute_metric(box1, box2, num_mesh_samples=num_mesh_samples)\n",
    "print(\"CD12: \", cd12)"
   ]
  },
  {
   "cell_type": "code",
   "execution_count": 15,
   "metadata": {},
   "outputs": [
    {
     "name": "stdout",
     "output_type": "stream",
     "text": [
      "Sphere\n",
      "CD1:  0.0001330898998968488\n",
      "CD12 expected:  2.0\n",
      "CD12:  1.9860454532156915\n"
     ]
    }
   ],
   "source": [
    "print(\"Sphere\")\n",
    "\n",
    "sphere1 = trimesh.primitives.Sphere(radius=1)\n",
    "sphere2 = trimesh.primitives.Sphere(radius=2)\n",
    "\n",
    "num_mesh_samples = 60000\n",
    "cd1, _ = metrics.compute_metric(sphere1, sphere1, num_mesh_samples=num_mesh_samples)\n",
    "print(\"CD1: \", cd1)\n",
    "\n",
    "cd12_expected = num_mesh_samples * 1 / num_mesh_samples\n",
    "cd12_expected *= 2      # two-way\n",
    "print(\"CD12 expected: \", cd12_expected)\n",
    "\n",
    "cd12, _ = metrics.compute_metric(sphere1, sphere2, num_mesh_samples=num_mesh_samples)\n",
    "print(\"CD12: \", cd12)"
   ]
  },
  {
   "cell_type": "code",
   "execution_count": 2,
   "metadata": {},
   "outputs": [
    {
     "name": "stdout",
     "output_type": "stream",
     "text": [
      "Cylinder\n",
      "CD1:  0.00013185724826310404\n",
      "CD12 expected:  1.0\n",
      "CD12:  0.5632856379423922\n"
     ]
    }
   ],
   "source": [
    "print(\"Cylinder\")\n",
    "\n",
    "cylinder1 = trimesh.primitives.Cylinder(radius=1, height=1)\n",
    "cylinder2 = trimesh.primitives.Cylinder(radius=2, height=1)\n",
    "\n",
    "num_mesh_samples = 60000\n",
    "cd1, _ = metrics.compute_metric(cylinder1, cylinder1, num_mesh_samples=num_mesh_samples)\n",
    "print(\"CD1: \", cd1)\n",
    "\n",
    "get_side_surf_samples_frac = lambda r,h: (2*math.pi*r*h) / (2*math.pi*(r**2) + 2*math.pi*r*h)\n",
    "# slight overapprox, since I neglect the \"overhangs\" at the top and bottom surfaces\n",
    "cd12_expected = get_side_surf_samples_frac(1, 1) * num_mesh_samples * 1. / num_mesh_samples\n",
    "cd12_expected *= 2      # two-way\n",
    "print(\"CD12 expected: \", cd12_expected)\n",
    "\n",
    "cd12, _ = metrics.compute_metric(cylinder1, cylinder2, num_mesh_samples=num_mesh_samples)\n",
    "print(\"CD12: \", cd12)"
   ]
  },
  {
   "cell_type": "code",
   "execution_count": 1,
   "metadata": {},
   "outputs": [
    {
     "data": {
      "text/html": [
       "<div>\n",
       "<style scoped>\n",
       "    .dataframe tbody tr th:only-of-type {\n",
       "        vertical-align: middle;\n",
       "    }\n",
       "\n",
       "    .dataframe tbody tr th {\n",
       "        vertical-align: top;\n",
       "    }\n",
       "\n",
       "    .dataframe thead th {\n",
       "        text-align: right;\n",
       "    }\n",
       "</style>\n",
       "<table border=\"1\" class=\"dataframe\">\n",
       "  <thead>\n",
       "    <tr style=\"text-align: right;\">\n",
       "      <th></th>\n",
       "      <th>shape</th>\n",
       "      <th>chamfer_dist</th>\n",
       "      <th>all_chamfer_dist</th>\n",
       "    </tr>\n",
       "  </thead>\n",
       "  <tbody>\n",
       "    <tr>\n",
       "      <th>0</th>\n",
       "      <td>ShapeNetV2/02691156/d0456644386d9149ce593c35f7...</td>\n",
       "      <td>0.000021</td>\n",
       "      <td>[0.00130456 0.00328596 0.00146883 ... 0.002363...</td>\n",
       "    </tr>\n",
       "    <tr>\n",
       "      <th>1</th>\n",
       "      <td>ShapeNetV2/02691156/d068bfa97f8407e423fc69eefd...</td>\n",
       "      <td>0.000025</td>\n",
       "      <td>[0.00212525 0.00202687 0.00062582 ... 0.001355...</td>\n",
       "    </tr>\n",
       "    <tr>\n",
       "      <th>2</th>\n",
       "      <td>ShapeNetV2/02691156/d07277bc3c95a365bd46d022fd...</td>\n",
       "      <td>0.000017</td>\n",
       "      <td>[0.00200216 0.00134141 0.00063196 ... 0.003189...</td>\n",
       "    </tr>\n",
       "    <tr>\n",
       "      <th>3</th>\n",
       "      <td>ShapeNetV2/02691156/d1119217281b8475fe755e3418...</td>\n",
       "      <td>0.000025</td>\n",
       "      <td>[0.00221422 0.00178975 0.00263906 ... 0.002490...</td>\n",
       "    </tr>\n",
       "    <tr>\n",
       "      <th>4</th>\n",
       "      <td>ShapeNetV2/02691156/d15e3519a61c5bad86442c51e8...</td>\n",
       "      <td>0.000783</td>\n",
       "      <td>[0.0033731  0.00258659 0.00310682 ... 0.001885...</td>\n",
       "    </tr>\n",
       "  </tbody>\n",
       "</table>\n",
       "</div>"
      ],
      "text/plain": [
       "                                               shape  chamfer_dist  \\\n",
       "0  ShapeNetV2/02691156/d0456644386d9149ce593c35f7...      0.000021   \n",
       "1  ShapeNetV2/02691156/d068bfa97f8407e423fc69eefd...      0.000025   \n",
       "2  ShapeNetV2/02691156/d07277bc3c95a365bd46d022fd...      0.000017   \n",
       "3  ShapeNetV2/02691156/d1119217281b8475fe755e3418...      0.000025   \n",
       "4  ShapeNetV2/02691156/d15e3519a61c5bad86442c51e8...      0.000783   \n",
       "\n",
       "                                    all_chamfer_dist  \n",
       "0  [0.00130456 0.00328596 0.00146883 ... 0.002363...  \n",
       "1  [0.00212525 0.00202687 0.00062582 ... 0.001355...  \n",
       "2  [0.00200216 0.00134141 0.00063196 ... 0.003189...  \n",
       "3  [0.00221422 0.00178975 0.00263906 ... 0.002490...  \n",
       "4  [0.0033731  0.00258659 0.00310682 ... 0.001885...  "
      ]
     },
     "execution_count": 1,
     "metadata": {},
     "output_type": "execute_result"
    }
   ],
   "source": [
    "import pandas as pd\n",
    "import ast\n",
    "\n",
    "df = pd.read_csv(\"examples/planes/Evaluation/2000/chamfer.csv\", delimiter=\";\")\n",
    "df.head()"
   ]
  },
  {
   "cell_type": "code",
   "execution_count": 16,
   "metadata": {},
   "outputs": [
    {
     "data": {
      "text/plain": [
       "dims                 [256, 256, 256, 256, 256, 256, 256, 256]\n",
       "dropout                                                    []\n",
       "dropout_prob                                              0.0\n",
       "norm_layers                                                []\n",
       "latent_in                                                 [0]\n",
       "xyz_in_all                                                1.0\n",
       "latent_dropout                                            0.0\n",
       "weight_norm                                               1.0\n",
       "nonlinearity                                             sine\n",
       "encoding_features                                         1.0\n",
       "encoding_sigma                                            0.0\n",
       "BestTrainLoss                                        0.020659\n",
       "BestTrainCD                                              -1.0\n",
       "BestTestCD                                               -1.0\n",
       "Name: 11, dtype: object"
      ]
     },
     "execution_count": 16,
     "metadata": {},
     "output_type": "execute_result"
    }
   ],
   "source": [
    "df.iloc[11]"
   ]
  },
  {
   "cell_type": "code",
   "execution_count": 2,
   "metadata": {},
   "outputs": [
    {
     "data": {
      "text/plain": [
       "dims                 [256, 256, 256, 256, 256, 256, 256, 256]\n",
       "dropout                                                    []\n",
       "dropout_prob                                              0.0\n",
       "norm_layers                                                []\n",
       "latent_in                                              [4, 0]\n",
       "xyz_in_all                                                1.0\n",
       "latent_dropout                                            1.0\n",
       "weight_norm                                               1.0\n",
       "nonlinearity                                             sine\n",
       "encoding_features                                         1.0\n",
       "encoding_sigma                                            0.0\n",
       "BestTrainLoss                                        0.006735\n",
       "BestTrainCD                                              -1.0\n",
       "BestTestCD                                               -1.0\n",
       "Name: 18, dtype: object"
      ]
     },
     "execution_count": 2,
     "metadata": {},
     "output_type": "execute_result"
    }
   ],
   "source": [
    "def plot_binary_vs_continuous(df, binary: str, continuous: str):\n",
    "    fig, ax = plt.subplots(1, 2, figsize=(12, 4))\n",
    "    df.plot(x=binary, y=continuous, kind=\"bar\", ax=ax[0])\n",
    "    df.groupby(binary).apply(lambda g: g.mean()).plot(y=continuous, kind=\"bar\", ax=ax[1])\n",
    "\n",
    "df = pd.read_csv(\"hparams_table.csv\")\n",
    "df_smaller_lr = df[df[\"BestTrainLoss\"] < 0.026]\n",
    "df_smaller_lr.iloc[df_smaller_lr[\"BestTrainLoss\"].argmin()]"
   ]
  },
  {
   "cell_type": "code",
   "execution_count": 8,
   "metadata": {},
   "outputs": [
    {
     "name": "stderr",
     "output_type": "stream",
     "text": [
      "/tmp/ipykernel_2607707/719333149.py:4: FutureWarning: The default value of numeric_only in DataFrame.mean is deprecated. In a future version, it will default to False. In addition, specifying 'numeric_only=None' is deprecated. Select only valid columns or specify the value of numeric_only to silence this warning.\n",
      "  df.groupby(binary).apply(lambda g: g.mean()).plot(y=continuous, kind=\"bar\", ax=ax[1])\n"
     ]
    },
    {
     "data": {
      "image/png": "[encoded data removed]",
      "text/plain": [
       "<Figure size 864x288 with 2 Axes>"
      ]
     },
     "metadata": {
      "needs_background": "light"
     },
     "output_type": "display_data"
    }
   ],
   "source": [
    "plot_binary_vs_continuous(df_smaller_lr, \"latent_in\", \"BestTrainLoss\")"
   ]
  },
  {
   "cell_type": "code",
   "execution_count": 10,
   "metadata": {},
   "outputs": [
    {
     "name": "stderr",
     "output_type": "stream",
     "text": [
      "/tmp/ipykernel_2607707/719333149.py:4: FutureWarning: The default value of numeric_only in DataFrame.mean is deprecated. In a future version, it will default to False. In addition, specifying 'numeric_only=None' is deprecated. Select only valid columns or specify the value of numeric_only to silence this warning.\n",
      "  df.groupby(binary).apply(lambda g: g.mean()).plot(y=continuous, kind=\"bar\", ax=ax[1])\n"
     ]
    },
    {
     "data": {
      "image/png": "[encoded data removed]",
      "text/plain": [
       "<Figure size 864x288 with 2 Axes>"
      ]
     },
     "metadata": {
      "needs_background": "light"
     },
     "output_type": "display_data"
    }
   ],
   "source": [
    "plot_binary_vs_continuous(df_smaller_lr, \"latent_dropout\", \"BestTrainLoss\")"
   ]
  },
  {
   "cell_type": "code",
   "execution_count": null,
   "metadata": {},
   "outputs": [],
   "source": [
    "plot_binary_vs_continuous(\"latent_in\", \"BestTrainLoss\")"
   ]
  },
  {
   "cell_type": "code",
   "execution_count": 19,
   "metadata": {},
   "outputs": [
    {
     "name": "stderr",
     "output_type": "stream",
     "text": [
      "/tmp/ipykernel_1613479/684658670.py:3: FutureWarning: The default value of numeric_only in DataFrame.mean is deprecated. In a future version, it will default to False. In addition, specifying 'numeric_only=None' is deprecated. Select only valid columns or specify the value of numeric_only to silence this warning.\n",
      "  df.groupby(\"latent_dropout\").apply(lambda g: g.mean()).plot(y=\"BestTrainLoss\", kind=\"bar\", ax=ax[1])\n"
     ]
    },
    {
     "data": {
      "text/plain": [
       "<AxesSubplot:xlabel='latent_dropout'>"
      ]
     },
     "execution_count": 19,
     "metadata": {},
     "output_type": "execute_result"
    },
    {
     "data": {
      "image/png": "[encoded data removed]",
      "text/plain": [
       "<Figure size 864x288 with 2 Axes>"
      ]
     },
     "metadata": {
      "needs_background": "light"
     },
     "output_type": "display_data"
    }
   ],
   "source": []
  },
  {
   "cell_type": "code",
   "execution_count": 5,
   "metadata": {},
   "outputs": [],
   "source": [
    "mesh = trimesh.load(\"../../quadriflow.obj\")"
   ]
  },
  {
   "cell_type": "code",
   "execution_count": 6,
   "metadata": {},
   "outputs": [
    {
     "data": {
      "text/plain": [
       "(1404, 3)"
      ]
     },
     "execution_count": 6,
     "metadata": {},
     "output_type": "execute_result"
    }
   ],
   "source": [
    "mesh.faces.shape"
   ]
  },
  {
   "cell_type": "code",
   "execution_count": null,
   "metadata": {},
   "outputs": [],
   "source": []
  }
 ],
 "metadata": {
  "kernelspec": {
   "display_name": "deepcomp",
   "language": "python",
   "name": "python3"
  },
  "language_info": {
   "codemirror_mode": {
    "name": "ipython",
    "version": 3
   },
   "file_extension": ".py",
   "mimetype": "text/x-python",
   "name": "python",
   "nbconvert_exporter": "python",
   "pygments_lexer": "ipython3",
   "version": "3.8.15"
  },
  "orig_nbformat": 4,
  "vscode": {
   "interpreter": {
    "hash": "a05216e539e1906d6eb0aedc41e60145a0e2fc0e5ddc7cc88e835ca88506d385"
   }
  }
 },
 "nbformat": 4,
 "nbformat_minor": 2
}
