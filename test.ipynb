{
 "cells": [
  {
   "cell_type": "code",
   "execution_count": 1,
   "metadata": {},
   "outputs": [
    {
     "name": "stderr",
     "output_type": "stream",
     "text": [
      "/home/wulff/anaconda3/envs/deep3dcomp/lib/python3.10/site-packages/tqdm/auto.py:22: TqdmWarning: IProgress not found. Please update jupyter and ipywidgets. See https://ipywidgets.readthedocs.io/en/stable/user_install.html\n",
      "  from .autonotebook import tqdm as notebook_tqdm\n"
     ]
    }
   ],
   "source": [
    "%load_ext autoreload\n",
    "%autoreload 2\n",
    "\n",
    "import matplotlib.animation as animation\n",
    "\n",
    "from torch.utils.data import Dataset\n",
    "# import binvox\n",
    "import os\n",
    "import json\n",
    "import trimesh\n",
    "import skimage\n",
    "import random\n",
    "# from mesh_to_sdf import mesh_to_voxels, sample_sdf_near_surface, scale_to_unit_sphere\n",
    "import mesh_to_sdf\n",
    "import pyrender\n",
    "import numpy as np\n",
    "import matplotlib.pyplot as plt\n",
    "import io\n",
    "from deep_sdf import utils, metrics, plotting\n",
    "import math\n",
    "import pandas as pd\n",
    "import pytorch3d\n",
    "import torch\n",
    "\n",
    "import os\n",
    "os.environ['PYOPENGL_PLATFORM'] = 'egl'\n",
    "\n",
    "pd.set_option('display.max_columns', 500)\n",
    "pd.set_option('display.max_colwidth', None)"
   ]
  },
  {
   "cell_type": "code",
   "execution_count": 8,
   "metadata": {},
   "outputs": [
    {
     "data": {
      "text/plain": [
       "0.1"
      ]
     },
     "execution_count": 8,
     "metadata": {},
     "output_type": "execute_result"
    }
   ],
   "source": [
    "i/n"
   ]
  },
  {
   "cell_type": "code",
   "execution_count": 2,
   "metadata": {},
   "outputs": [
    {
     "ename": "KeyboardInterrupt",
     "evalue": "",
     "output_type": "error",
     "traceback": [
      "\u001b[0;31m---------------------------------------------------------------------------\u001b[0m",
      "\u001b[0;31mKeyboardInterrupt\u001b[0m                         Traceback (most recent call last)",
      "\u001b[1;32m/home/wulff/deepsdf/test.ipynb Cell 3\u001b[0m in \u001b[0;36m<cell line: 9>\u001b[0;34m()\u001b[0m\n\u001b[1;32m     <a href='vscode-notebook-cell://ssh-remote%2Bvc02.vc.in.tum.de/home/wulff/deepsdf/test.ipynb#W2sdnNjb2RlLXJlbW90ZQ%3D%3D?line=11'>12</a>\u001b[0m n \u001b[39m+\u001b[39m\u001b[39m=\u001b[39m \u001b[39m1\u001b[39m\n\u001b[1;32m     <a href='vscode-notebook-cell://ssh-remote%2Bvc02.vc.in.tum.de/home/wulff/deepsdf/test.ipynb#W2sdnNjb2RlLXJlbW90ZQ%3D%3D?line=12'>13</a>\u001b[0m \u001b[39mtry\u001b[39;00m:\n\u001b[0;32m---> <a href='vscode-notebook-cell://ssh-remote%2Bvc02.vc.in.tum.de/home/wulff/deepsdf/test.ipynb#W2sdnNjb2RlLXJlbW90ZQ%3D%3D?line=13'>14</a>\u001b[0m     ret \u001b[39m=\u001b[39m mesh_to_sdf\u001b[39m.\u001b[39;49mmesh_to_voxels(mesh, voxel_resolution\u001b[39m=\u001b[39;49m\u001b[39m128\u001b[39;49m, check_result\u001b[39m=\u001b[39;49m\u001b[39mTrue\u001b[39;49;00m, pad\u001b[39m=\u001b[39;49m\u001b[39mTrue\u001b[39;49;00m, sign_method\u001b[39m=\u001b[39;49m\u001b[39m\"\u001b[39;49m\u001b[39mdepth\u001b[39;49m\u001b[39m\"\u001b[39;49m)\n\u001b[1;32m     <a href='vscode-notebook-cell://ssh-remote%2Bvc02.vc.in.tum.de/home/wulff/deepsdf/test.ipynb#W2sdnNjb2RlLXJlbW90ZQ%3D%3D?line=14'>15</a>\u001b[0m     \u001b[39mprint\u001b[39m(\u001b[39m\"\u001b[39m\u001b[39mSuccess\u001b[39m\u001b[39m\"\u001b[39m, p)\n\u001b[1;32m     <a href='vscode-notebook-cell://ssh-remote%2Bvc02.vc.in.tum.de/home/wulff/deepsdf/test.ipynb#W2sdnNjb2RlLXJlbW90ZQ%3D%3D?line=15'>16</a>\u001b[0m     i \u001b[39m+\u001b[39m\u001b[39m=\u001b[39m \u001b[39m1\u001b[39m\n",
      "File \u001b[0;32m~/anaconda3/envs/deep3dcomp/lib/python3.10/site-packages/mesh_to_sdf/__init__.py:49\u001b[0m, in \u001b[0;36mmesh_to_voxels\u001b[0;34m(mesh, voxel_resolution, surface_point_method, sign_method, scan_count, scan_resolution, sample_point_count, normal_sample_count, pad, check_result, return_gradients)\u001b[0m\n\u001b[1;32m     45\u001b[0m mesh \u001b[39m=\u001b[39m scale_to_unit_cube(mesh)\n\u001b[1;32m     47\u001b[0m surface_point_cloud \u001b[39m=\u001b[39m get_surface_point_cloud(mesh, surface_point_method, \u001b[39m3\u001b[39m\u001b[39m*\u001b[39m\u001b[39m*\u001b[39m\u001b[39m0.5\u001b[39m, scan_count, scan_resolution, sample_point_count, sign_method\u001b[39m==\u001b[39m\u001b[39m'\u001b[39m\u001b[39mnormal\u001b[39m\u001b[39m'\u001b[39m)\n\u001b[0;32m---> 49\u001b[0m \u001b[39mreturn\u001b[39;00m surface_point_cloud\u001b[39m.\u001b[39;49mget_voxels(voxel_resolution, sign_method\u001b[39m==\u001b[39;49m\u001b[39m'\u001b[39;49m\u001b[39mdepth\u001b[39;49m\u001b[39m'\u001b[39;49m, normal_sample_count, pad, check_result, return_gradients)\n",
      "File \u001b[0;32m~/anaconda3/envs/deep3dcomp/lib/python3.10/site-packages/mesh_to_sdf/surface_point_cloud.py:83\u001b[0m, in \u001b[0;36mSurfacePointCloud.get_voxels\u001b[0;34m(self, voxel_resolution, use_depth_buffer, sample_count, pad, check_result, return_gradients)\u001b[0m\n\u001b[1;32m     82\u001b[0m \u001b[39mdef\u001b[39;00m \u001b[39mget_voxels\u001b[39m(\u001b[39mself\u001b[39m, voxel_resolution, use_depth_buffer\u001b[39m=\u001b[39m\u001b[39mFalse\u001b[39;00m, sample_count\u001b[39m=\u001b[39m\u001b[39m11\u001b[39m, pad\u001b[39m=\u001b[39m\u001b[39mFalse\u001b[39;00m, check_result\u001b[39m=\u001b[39m\u001b[39mFalse\u001b[39;00m, return_gradients\u001b[39m=\u001b[39m\u001b[39mFalse\u001b[39;00m):\n\u001b[0;32m---> 83\u001b[0m     result \u001b[39m=\u001b[39m \u001b[39mself\u001b[39;49m\u001b[39m.\u001b[39;49mget_sdf_in_batches(get_raster_points(voxel_resolution), use_depth_buffer, sample_count, return_gradients\u001b[39m=\u001b[39;49mreturn_gradients)\n\u001b[1;32m     84\u001b[0m     \u001b[39mif\u001b[39;00m \u001b[39mnot\u001b[39;00m return_gradients:\n\u001b[1;32m     85\u001b[0m         sdf \u001b[39m=\u001b[39m result\n",
      "File \u001b[0;32m~/anaconda3/envs/deep3dcomp/lib/python3.10/site-packages/mesh_to_sdf/surface_point_cloud.py:71\u001b[0m, in \u001b[0;36mSurfacePointCloud.get_sdf_in_batches\u001b[0;34m(self, query_points, use_depth_buffer, sample_count, batch_size, return_gradients)\u001b[0m\n\u001b[1;32m     68\u001b[0m     \u001b[39mreturn\u001b[39;00m \u001b[39mself\u001b[39m\u001b[39m.\u001b[39mget_sdf(query_points, use_depth_buffer\u001b[39m=\u001b[39muse_depth_buffer, sample_count\u001b[39m=\u001b[39msample_count, return_gradients\u001b[39m=\u001b[39mreturn_gradients)\n\u001b[1;32m     70\u001b[0m n_batches \u001b[39m=\u001b[39m \u001b[39mint\u001b[39m(math\u001b[39m.\u001b[39mceil(query_points\u001b[39m.\u001b[39mshape[\u001b[39m0\u001b[39m] \u001b[39m/\u001b[39m batch_size))\n\u001b[0;32m---> 71\u001b[0m batches \u001b[39m=\u001b[39m [\n\u001b[1;32m     72\u001b[0m     \u001b[39mself\u001b[39m\u001b[39m.\u001b[39mget_sdf(points, use_depth_buffer\u001b[39m=\u001b[39muse_depth_buffer, sample_count\u001b[39m=\u001b[39msample_count, return_gradients\u001b[39m=\u001b[39mreturn_gradients)\n\u001b[1;32m     73\u001b[0m     \u001b[39mfor\u001b[39;00m points \u001b[39min\u001b[39;00m np\u001b[39m.\u001b[39marray_split(query_points, n_batches)\n\u001b[1;32m     74\u001b[0m ]\n\u001b[1;32m     75\u001b[0m \u001b[39mif\u001b[39;00m return_gradients:\n\u001b[1;32m     76\u001b[0m     distances \u001b[39m=\u001b[39m np\u001b[39m.\u001b[39mconcatenate([batch[\u001b[39m0\u001b[39m] \u001b[39mfor\u001b[39;00m batch \u001b[39min\u001b[39;00m batches])\n",
      "File \u001b[0;32m~/anaconda3/envs/deep3dcomp/lib/python3.10/site-packages/mesh_to_sdf/surface_point_cloud.py:72\u001b[0m, in \u001b[0;36m<listcomp>\u001b[0;34m(.0)\u001b[0m\n\u001b[1;32m     68\u001b[0m     \u001b[39mreturn\u001b[39;00m \u001b[39mself\u001b[39m\u001b[39m.\u001b[39mget_sdf(query_points, use_depth_buffer\u001b[39m=\u001b[39muse_depth_buffer, sample_count\u001b[39m=\u001b[39msample_count, return_gradients\u001b[39m=\u001b[39mreturn_gradients)\n\u001b[1;32m     70\u001b[0m n_batches \u001b[39m=\u001b[39m \u001b[39mint\u001b[39m(math\u001b[39m.\u001b[39mceil(query_points\u001b[39m.\u001b[39mshape[\u001b[39m0\u001b[39m] \u001b[39m/\u001b[39m batch_size))\n\u001b[1;32m     71\u001b[0m batches \u001b[39m=\u001b[39m [\n\u001b[0;32m---> 72\u001b[0m     \u001b[39mself\u001b[39;49m\u001b[39m.\u001b[39;49mget_sdf(points, use_depth_buffer\u001b[39m=\u001b[39;49muse_depth_buffer, sample_count\u001b[39m=\u001b[39;49msample_count, return_gradients\u001b[39m=\u001b[39;49mreturn_gradients)\n\u001b[1;32m     73\u001b[0m     \u001b[39mfor\u001b[39;00m points \u001b[39min\u001b[39;00m np\u001b[39m.\u001b[39marray_split(query_points, n_batches)\n\u001b[1;32m     74\u001b[0m ]\n\u001b[1;32m     75\u001b[0m \u001b[39mif\u001b[39;00m return_gradients:\n\u001b[1;32m     76\u001b[0m     distances \u001b[39m=\u001b[39m np\u001b[39m.\u001b[39mconcatenate([batch[\u001b[39m0\u001b[39m] \u001b[39mfor\u001b[39;00m batch \u001b[39min\u001b[39;00m batches])\n",
      "File \u001b[0;32m~/anaconda3/envs/deep3dcomp/lib/python3.10/site-packages/mesh_to_sdf/surface_point_cloud.py:34\u001b[0m, in \u001b[0;36mSurfacePointCloud.get_sdf\u001b[0;34m(self, query_points, use_depth_buffer, sample_count, return_gradients)\u001b[0m\n\u001b[1;32m     32\u001b[0m \u001b[39mdef\u001b[39;00m \u001b[39mget_sdf\u001b[39m(\u001b[39mself\u001b[39m, query_points, use_depth_buffer\u001b[39m=\u001b[39m\u001b[39mFalse\u001b[39;00m, sample_count\u001b[39m=\u001b[39m\u001b[39m11\u001b[39m, return_gradients\u001b[39m=\u001b[39m\u001b[39mFalse\u001b[39;00m):\n\u001b[1;32m     33\u001b[0m     \u001b[39mif\u001b[39;00m use_depth_buffer:\n\u001b[0;32m---> 34\u001b[0m         distances, indices \u001b[39m=\u001b[39m \u001b[39mself\u001b[39;49m\u001b[39m.\u001b[39;49mkd_tree\u001b[39m.\u001b[39;49mquery(query_points)\n\u001b[1;32m     35\u001b[0m         distances \u001b[39m=\u001b[39m distances\u001b[39m.\u001b[39mastype(np\u001b[39m.\u001b[39mfloat32)\u001b[39m.\u001b[39mreshape(\u001b[39m-\u001b[39m\u001b[39m1\u001b[39m)\n\u001b[1;32m     36\u001b[0m         inside \u001b[39m=\u001b[39m \u001b[39m~\u001b[39m\u001b[39mself\u001b[39m\u001b[39m.\u001b[39mis_outside(query_points)\n",
      "\u001b[0;31mKeyboardInterrupt\u001b[0m: "
     ]
    }
   ],
   "source": [
    "\n",
    "folder = \"/mnt/hdd/ShapeNetCore.v2/02691156\" # planes\n",
    "folder = \"/mnt/hdd/ShapeNetCore.v2/04256520\"    # sofas\n",
    "# folder = \"/mnt/hdd/ShapeNetCore.v2/03636649\"    # lamps\n",
    "\n",
    "\n",
    "\n",
    "i = 0\n",
    "n = 0\n",
    "for fold in os.listdir(folder):\n",
    "    p = os.path.join(folder, fold, \"models/model_normalized.obj\")\n",
    "    mesh = trimesh.load(p)\n",
    "    n += 1\n",
    "    try:\n",
    "        ret = mesh_to_sdf.mesh_to_voxels(mesh, voxel_resolution=128, check_result=True, pad=True, sign_method=\"depth\")\n",
    "        print(\"Success\", p)\n",
    "        i += 1\n",
    "    except mesh_to_sdf.BadMeshException:\n",
    "        pass\n",
    "        # print(\"BadMeshException\")\n",
    "\n",
    "print(\"Total\", i, \" out of \", len(os.listdir(folder)))\n",
    "\n",
    "# idxs_neg = np.argwhere(sdf < 1).reshape(-1)\n",
    "# # idxs_neg = np.argwhere((-0.1 < sdf) & (sdf < 0.0)).reshape(-1)\n",
    "\n",
    "# print(len(idxs_neg))\n",
    "\n",
    "# anim = plotting.render_sdf_vid(points[idxs_neg], sdf[idxs_neg])\n",
    "# plt.close()\n",
    "\n",
    "# from IPython.display import HTML\n",
    "# HTML(anim.to_jshtml())"
   ]
  },
  {
   "cell_type": "code",
   "execution_count": 2,
   "metadata": {},
   "outputs": [],
   "source": [
    "import pandas as pd\n",
    "import ast\n",
    "import matplotlib.pyplot as plt\n",
    "\n",
    "# df = pd.read_csv(\"examples/planes/Evaluation/2000/chamfer.csv\", delimiter=\";\")\n",
    "# df_line = pd.read_csv(\"../../shared/deepsdfcomp/searches/double_nonlinearity/line/Evaluation/2000/chamfer.csv\", delimiter=\";\")\n",
    "# df_plane = pd.read_csv(\"../../shared/deepsdfcomp/searches/double_nonlinearity/plane/Evaluation/2000/chamfer.csv\", delimiter=\";\")\n",
    "df_baseline = pd.read_csv(\"../../shared/deepsdfcomp/searches/double_nonlinearity/baseline/Evaluation/2000/chamfer.csv\", delimiter=\";\")\n",
    "df_siren = pd.read_csv(\"../../shared/deepsdfcomp/searches/double_nonlinearity/siren_new_schedule/Evaluation/2000/chamfer.csv\", delimiter=\";\")\n",
    "df_siren_128 = pd.read_csv(\"../../shared/deepsdfcomp/searches/double_nonlinearity/siren_width=128_no_bottleneck/Evaluation/2000/chamfer.csv\", delimiter=\";\")\n",
    "df_siren_64 = pd.read_csv(\"../../shared/deepsdfcomp/searches/double_nonlinearity/siren_width=64_no_bottleneck/Evaluation/2000/chamfer.csv\", delimiter=\";\")\n",
    "df_siren_256 = pd.read_csv(\"../../shared/deepsdfcomp/searches/double_nonlinearity/siren_width=256_no_bottleneck_v2/Evaluation/2000/chamfer.csv\", delimiter=\";\")\n",
    "df_voxelized = pd.read_csv(\"data/voxelize_until_cd_meshes_CD=0.001/run_voxelize_until_CD_logs.csv\")\n",
    "\n",
    "# fig, ax = plt.subplots(1, 3, figsize=(15, 5))\n",
    "# titles = [\"NL Combination: Line\", \"SIREN\", \"Baseline\"]\n",
    "# for i, df in enumerate([df1, df2, df_baseline]):\n",
    "#     df.head()\n",
    "#     print(df.mean())\n",
    "#     print(df.median())\n",
    "#     df.hist(\"chamfer_dist\", bins=100, ax=ax[i])\n",
    "#     ax[i].set_xlim((0, 0.010))\n",
    "#     # ax[i].set_ylim((0, 350))\n",
    "#     ax[i].set_title(titles[i])"
   ]
  },
  {
   "cell_type": "code",
   "execution_count": 4,
   "metadata": {},
   "outputs": [
    {
     "data": {
      "text/plain": [
       "0.00017863627278979764"
      ]
     },
     "execution_count": 4,
     "metadata": {},
     "output_type": "execute_result"
    }
   ],
   "source": [
    "df_siren[\"chamfer_dist\"].mean()"
   ]
  },
  {
   "cell_type": "code",
   "execution_count": 19,
   "metadata": {},
   "outputs": [
    {
     "name": "stdout",
     "output_type": "stream",
     "text": [
      "baseline:  chamfer_dist          0.000147\n",
      "normal_consistency    0.020689\n",
      "dtype: float64 chamfer_dist          0.000040\n",
      "normal_consistency    0.021629\n",
      "dtype: float64 \n",
      "\n",
      "siren:  chamfer_dist          0.000179\n",
      "normal_consistency    0.019108\n",
      "dtype: float64 chamfer_dist          0.000032\n",
      "normal_consistency    0.019626\n",
      "dtype: float64 \n",
      "\n",
      "siren 256:  chamfer_dist          0.000225\n",
      "normal_consistency    0.020490\n",
      "dtype: float64 chamfer_dist          0.000037\n",
      "normal_consistency    0.020707\n",
      "dtype: float64 \n",
      "\n",
      "siren 64:  chamfer_dist          0.000296\n",
      "normal_consistency    0.016108\n",
      "dtype: float64 chamfer_dist          0.000072\n",
      "normal_consistency    0.017378\n",
      "dtype: float64 \n",
      "\n"
     ]
    }
   ],
   "source": [
    "print(\"baseline: \", df_baseline.mean(numeric_only=True), df_baseline.median(numeric_only=True), \"\\n\")\n",
    "print(\"siren: \", df_siren.mean(numeric_only=True), df_siren.median(numeric_only=True), \"\\n\")\n",
    "print(\"siren 256: \", df_siren_256.mean(numeric_only=True), df_siren_256.median(numeric_only=True), \"\\n\")\n",
    "# print(\"siren 128: \", df_siren_128.mean(numeric_only=True), df_siren_128.median(numeric_only=True), \"\\n\")\n",
    "print(\"siren 64: \", df_siren_64.mean(numeric_only=True), df_siren_64.median(numeric_only=True), \"\\n\")"
   ]
  },
  {
   "cell_type": "code",
   "execution_count": 28,
   "metadata": {},
   "outputs": [
    {
     "data": {
      "image/png": "[encoded data removed]",
      "text/plain": [
       "<Figure size 640x480 with 1 Axes>"
      ]
     },
     "execution_count": 28,
     "metadata": {},
     "output_type": "execute_result"
    }
   ],
   "source": [
    "exps = [\n",
    "    \"../../shared/deepsdfcomp/searches/double_nonlinearity/siren_width=64_no_bottleneck\",\n",
    "    \"../../shared/deepsdfcomp/searches/double_nonlinearity/siren_width=256_no_bottleneck_v2\",\n",
    "    ]\n",
    "vox_logs = [\n",
    "    pd.read_csv(\"data/voxelize_until_cd_meshes_CD=0.001/run_voxelize_until_CD_logs.csv\"),\n",
    "]\n",
    "plotting.plot_capacity_vs_chamfer_dist(exps, type=\"latent\", voxelization_logs=vox_logs)"
   ]
  },
  {
   "cell_type": "code",
   "execution_count": 29,
   "metadata": {},
   "outputs": [
    {
     "data": {
      "text/plain": [
       "138"
      ]
     },
     "execution_count": 29,
     "metadata": {},
     "output_type": "execute_result"
    }
   ],
   "source": [
    "len(df_voxelized)"
   ]
  },
  {
   "cell_type": "code",
   "execution_count": 7,
   "metadata": {},
   "outputs": [
    {
     "data": {
      "text/plain": [
       "Unnamed: 0.1             68.500000\n",
       "Unnamed: 0                0.000000\n",
       "voxel_resolution        112.260870\n",
       "gt_vertices           83911.528986\n",
       "decimated_vertices     8289.065217\n",
       "cd                        0.000973\n",
       "iteration                 2.318841\n",
       "dtype: float64"
      ]
     },
     "execution_count": 7,
     "metadata": {},
     "output_type": "execute_result"
    }
   ],
   "source": [
    "df_voxelized.mean(numeric_only=True)"
   ]
  },
  {
   "cell_type": "code",
   "execution_count": 16,
   "metadata": {},
   "outputs": [
    {
     "data": {
      "text/html": [
       "<div>\n",
       "<style scoped>\n",
       "    .dataframe tbody tr th:only-of-type {\n",
       "        vertical-align: middle;\n",
       "    }\n",
       "\n",
       "    .dataframe tbody tr th {\n",
       "        vertical-align: top;\n",
       "    }\n",
       "\n",
       "    .dataframe thead th {\n",
       "        text-align: right;\n",
       "    }\n",
       "</style>\n",
       "<table border=\"1\" class=\"dataframe\">\n",
       "  <thead>\n",
       "    <tr style=\"text-align: right;\">\n",
       "      <th></th>\n",
       "      <th>shape</th>\n",
       "      <th>chamfer_dist</th>\n",
       "      <th>normal_consistency</th>\n",
       "    </tr>\n",
       "  </thead>\n",
       "  <tbody>\n",
       "    <tr>\n",
       "      <th>412</th>\n",
       "      <td>ShapeNetV2/02691156/fc16704314dc71ee9a6e43b878d5b335</td>\n",
       "      <td>8.756794e-03</td>\n",
       "      <td>0.012752</td>\n",
       "    </tr>\n",
       "    <tr>\n",
       "      <th>360</th>\n",
       "      <td>ShapeNetV2/02691156/f6e6fd724a9eab24ba8e93696257b3fc</td>\n",
       "      <td>5.344461e-03</td>\n",
       "      <td>0.016526</td>\n",
       "    </tr>\n",
       "    <tr>\n",
       "      <th>438</th>\n",
       "      <td>ShapeNetV2/02691156/fef1c15a5db21b00a67cc8f661e7890a</td>\n",
       "      <td>4.676031e-03</td>\n",
       "      <td>0.015771</td>\n",
       "    </tr>\n",
       "    <tr>\n",
       "      <th>153</th>\n",
       "      <td>ShapeNetV2/02691156/df25be12ae47d2517ef7776b3bf5815c</td>\n",
       "      <td>2.579081e-03</td>\n",
       "      <td>0.017206</td>\n",
       "    </tr>\n",
       "    <tr>\n",
       "      <th>390</th>\n",
       "      <td>ShapeNetV2/02691156/f9db62e6a88f0d7129343faf3bbffb15</td>\n",
       "      <td>2.484231e-03</td>\n",
       "      <td>0.010837</td>\n",
       "    </tr>\n",
       "    <tr>\n",
       "      <th>...</th>\n",
       "      <td>...</td>\n",
       "      <td>...</td>\n",
       "      <td>...</td>\n",
       "    </tr>\n",
       "    <tr>\n",
       "      <th>244</th>\n",
       "      <td>ShapeNetV2/02691156/e87902d01d40c71521b1ceea9c93aa79</td>\n",
       "      <td>1.015518e-05</td>\n",
       "      <td>0.017794</td>\n",
       "    </tr>\n",
       "    <tr>\n",
       "      <th>16</th>\n",
       "      <td>ShapeNetV2/02691156/d28a3cd771b2bf1e71d03b466c72ce41</td>\n",
       "      <td>9.532152e-06</td>\n",
       "      <td>0.015387</td>\n",
       "    </tr>\n",
       "    <tr>\n",
       "      <th>152</th>\n",
       "      <td>ShapeNetV2/02691156/df1c68e94259c6cf5c7319b71bdce6e</td>\n",
       "      <td>7.015172e-06</td>\n",
       "      <td>0.020189</td>\n",
       "    </tr>\n",
       "    <tr>\n",
       "      <th>154</th>\n",
       "      <td>ShapeNetV2/02691156/df411aa240fe48d5855eb7906a7a7a04</td>\n",
       "      <td>2.100116e-06</td>\n",
       "      <td>0.016054</td>\n",
       "    </tr>\n",
       "    <tr>\n",
       "      <th>430</th>\n",
       "      <td>ShapeNetV2/02691156/fdcb11fa39661f0fb08f81d66e854bfa</td>\n",
       "      <td>9.942681e-07</td>\n",
       "      <td>0.021623</td>\n",
       "    </tr>\n",
       "  </tbody>\n",
       "</table>\n",
       "<p>456 rows × 3 columns</p>\n",
       "</div>"
      ],
      "text/plain": [
       "                                                    shape  chamfer_dist  \\\n",
       "412  ShapeNetV2/02691156/fc16704314dc71ee9a6e43b878d5b335  8.756794e-03   \n",
       "360  ShapeNetV2/02691156/f6e6fd724a9eab24ba8e93696257b3fc  5.344461e-03   \n",
       "438  ShapeNetV2/02691156/fef1c15a5db21b00a67cc8f661e7890a  4.676031e-03   \n",
       "153  ShapeNetV2/02691156/df25be12ae47d2517ef7776b3bf5815c  2.579081e-03   \n",
       "390  ShapeNetV2/02691156/f9db62e6a88f0d7129343faf3bbffb15  2.484231e-03   \n",
       "..                                                    ...           ...   \n",
       "244  ShapeNetV2/02691156/e87902d01d40c71521b1ceea9c93aa79  1.015518e-05   \n",
       "16   ShapeNetV2/02691156/d28a3cd771b2bf1e71d03b466c72ce41  9.532152e-06   \n",
       "152   ShapeNetV2/02691156/df1c68e94259c6cf5c7319b71bdce6e  7.015172e-06   \n",
       "154  ShapeNetV2/02691156/df411aa240fe48d5855eb7906a7a7a04  2.100116e-06   \n",
       "430  ShapeNetV2/02691156/fdcb11fa39661f0fb08f81d66e854bfa  9.942681e-07   \n",
       "\n",
       "     normal_consistency  \n",
       "412            0.012752  \n",
       "360            0.016526  \n",
       "438            0.015771  \n",
       "153            0.017206  \n",
       "390            0.010837  \n",
       "..                  ...  \n",
       "244            0.017794  \n",
       "16             0.015387  \n",
       "152            0.020189  \n",
       "154            0.016054  \n",
       "430            0.021623  \n",
       "\n",
       "[456 rows x 3 columns]"
      ]
     },
     "execution_count": 16,
     "metadata": {},
     "output_type": "execute_result"
    }
   ],
   "source": [
    "df_siren.sort_values(\"chamfer_dist\", ascending=False).drop(columns=[\"all_chamfer_dist\"])"
   ]
  },
  {
   "cell_type": "code",
   "execution_count": null,
   "metadata": {},
   "outputs": [],
   "source": [
    "trimesh.load(\"/mnt/hdd/ShapeNetCore.v2/02691156/fef1c15a5db21b00a67cc8f661e7890a/models/model_normalized.obj\").show()"
   ]
  },
  {
   "cell_type": "code",
   "execution_count": 56,
   "metadata": {},
   "outputs": [
    {
     "data": {
      "text/plain": [
       "torch.Size([3])"
      ]
     },
     "execution_count": 56,
     "metadata": {},
     "output_type": "execute_result"
    }
   ],
   "source": [
    "[torch.Tensor(_) for _ in mesh.faces][0].shape"
   ]
  },
  {
   "cell_type": "code",
   "execution_count": 4,
   "metadata": {},
   "outputs": [
    {
     "data": {
      "text/plain": [
       "tensor(0.7256)"
      ]
     },
     "execution_count": 4,
     "metadata": {},
     "output_type": "execute_result"
    }
   ],
   "source": [
    "from pytorch3d.structures import Meshes\n",
    "from pytorch3d import structures, io, loss\n",
    "\n",
    "filename = \"/mnt/hdd/ShapeNetCore.v2/02691156/fef1c15a5db21b00a67cc8f661e7890a/models/model_normalized.obj\"\n",
    "mesh = utils.as_mesh(trimesh.load(filename))\n",
    "\n",
    "# verts, faces = io.load_ply(filename)\n",
    "# verts, faces, aux = io.load_obj(filename)\n",
    "# meshes = Meshes(verts=[verts], faces=[faces.verts_idx])\n",
    "\n",
    "meshes = trimesh_to_pytorch3d_meshes(mesh)\n",
    "loss.mesh_normal_consistency(meshes)"
   ]
  },
  {
   "cell_type": "code",
   "execution_count": 13,
   "metadata": {},
   "outputs": [
    {
     "data": {
      "text/plain": [
       "tensor(0.0228)"
      ]
     },
     "execution_count": 13,
     "metadata": {},
     "output_type": "execute_result"
    }
   ],
   "source": [
    "filename = \"../../shared/deepsdfcomp/searches/double_nonlinearity/baseline/Reconstructions/2000/Meshes/ShapeNetV2/02691156/d0456644386d9149ce593c35f70d3f.ply\"\n",
    "mesh = utils.as_mesh(trimesh.load(filename))\n",
    "meshes = utils.trimesh_to_pytorch3d_meshes([mesh])\n",
    "loss.mesh_normal_consistency(meshes)"
   ]
  },
  {
   "cell_type": "code",
   "execution_count": 11,
   "metadata": {},
   "outputs": [
    {
     "data": {
      "text/plain": [
       "[tensor([[    2,     1,     0],\n",
       "         [    4,     3,     0],\n",
       "         [    4,     0,     1],\n",
       "         ...,\n",
       "         [45684, 45682, 45683],\n",
       "         [45684, 45683, 45685],\n",
       "         [45685, 45683, 45680]]),\n",
       " tensor([[    2,     1,     0],\n",
       "         [    4,     3,     0],\n",
       "         [    4,     0,     1],\n",
       "         ...,\n",
       "         [45684, 45682, 45683],\n",
       "         [45684, 45683, 45685],\n",
       "         [45685, 45683, 45680]])]"
      ]
     },
     "execution_count": 11,
     "metadata": {},
     "output_type": "execute_result"
    }
   ],
   "source": [
    "meshes.faces_list()"
   ]
  },
  {
   "cell_type": "code",
   "execution_count": 64,
   "metadata": {},
   "outputs": [
    {
     "data": {
      "text/plain": [
       "tensor(0.0197)"
      ]
     },
     "execution_count": 64,
     "metadata": {},
     "output_type": "execute_result"
    }
   ],
   "source": [
    "filename = \"../../shared/deepsdfcomp/searches/double_nonlinearity/siren_new_schedule/Reconstructions/2000/Meshes/ShapeNetV2/02691156/d0456644386d9149ce593c35f70d3f.ply\"\n",
    "mesh = utils.as_mesh(trimesh.load(filename))\n",
    "meshes = trimesh_to_pytorch3d_meshes(mesh)\n",
    "loss.mesh_normal_consistency(meshes)"
   ]
  },
  {
   "cell_type": "code",
   "execution_count": 21,
   "metadata": {},
   "outputs": [
    {
     "ename": "IndexError",
     "evalue": "Dimension out of range (expected to be in range of [-2, 1], but got 2)",
     "output_type": "error",
     "traceback": [
      "\u001b[0;31m---------------------------------------------------------------------------\u001b[0m",
      "\u001b[0;31mIndexError\u001b[0m                                Traceback (most recent call last)",
      "\u001b[1;32m/home/wulff/deepsdf/test.ipynb Cell 7\u001b[0m in \u001b[0;36m<cell line: 1>\u001b[0;34m()\u001b[0m\n\u001b[0;32m----> <a href='vscode-notebook-cell://ssh-remote%2Bvc02.vc.in.tum.de/home/wulff/deepsdf/test.ipynb#X15sdnNjb2RlLXJlbW90ZQ%3D%3D?line=0'>1</a>\u001b[0m torch\u001b[39m.\u001b[39;49mTensor(np\u001b[39m.\u001b[39;49marray(mesh\u001b[39m.\u001b[39;49mfaces))\u001b[39m.\u001b[39;49msize(\u001b[39m2\u001b[39;49m)\n",
      "\u001b[0;31mIndexError\u001b[0m: Dimension out of range (expected to be in range of [-2, 1], but got 2)"
     ]
    }
   ],
   "source": [
    "torch.Tensor(np.array(mesh.faces)).size(2)"
   ]
  },
  {
   "cell_type": "code",
   "execution_count": null,
   "metadata": {},
   "outputs": [],
   "source": [
    "experiment_dirs = [\n",
    "    \"../../shared/deepsdfcomp/searches/double_nonlinearity/baseline\",\n",
    "    # \"../../shared/deepsdfcomp/searches/double_nonlinearity/all_latentsize=200_width=256_lr=5e-4_int=150\",\n",
    "    \"../../shared/deepsdfcomp/searches/double_nonlinearity/line\",\n",
    "    \"../../shared/deepsdfcomp/searches/double_nonlinearity/plane\",\n",
    "    \"../../shared/deepsdfcomp/searches/double_nonlinearity/siren_new_schedule\",\n",
    "]\n",
    "\n",
    "shape_ids = [\n",
    "    \"fc16704314dc71ee9a6e43b878d5b335\",\n",
    "    \"f6e6fd724a9eab24ba8e93696257b3fc\",  \n",
    "    \"fef1c15a5db21b00a67cc8f661e7890a\",\n",
    "    \"df25be12ae47d2517ef7776b3bf5815c\",\n",
    "    \"f9db62e6a88f0d7129343faf3bbffb15\",\n",
    "]\n",
    "\n",
    "plotting.plot_reconstruction_comparison(experiment_dirs, shape_ids)"
   ]
  },
  {
   "cell_type": "code",
   "execution_count": null,
   "metadata": {},
   "outputs": [],
   "source": []
  }
 ],
 "metadata": {
  "kernelspec": {
   "display_name": "deep3dcomp",
   "language": "python",
   "name": "python3"
  },
  "language_info": {
   "codemirror_mode": {
    "name": "ipython",
    "version": 3
   },
   "file_extension": ".py",
   "mimetype": "text/x-python",
   "name": "python",
   "nbconvert_exporter": "python",
   "pygments_lexer": "ipython3",
   "version": "3.10.9"
  },
  "orig_nbformat": 4,
  "vscode": {
   "interpreter": {
    "hash": "dda8309ff7d2d41842c6668bbfc6ea600e07d87a872d40bb406305ed3cf55b95"
   }
  }
 },
 "nbformat": 4,
 "nbformat_minor": 2
}
