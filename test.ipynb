{
 "cells": [
  {
   "cell_type": "code",
   "execution_count": 2,
   "metadata": {},
   "outputs": [],
   "source": [
    "%load_ext autoreload\n",
    "%autoreload 2\n",
    "\n",
    "import matplotlib.animation as animation\n",
    "\n",
    "from torch.utils.data import Dataset\n",
    "import binvox\n",
    "import os\n",
    "import json\n",
    "import trimesh\n",
    "import skimage\n",
    "import random\n",
    "from mesh_to_sdf import mesh_to_voxels, sample_sdf_near_surface, scale_to_unit_sphere\n",
    "import mesh_to_sdf\n",
    "import pyrender\n",
    "import numpy as np\n",
    "import matplotlib.pyplot as plt\n",
    "import trimesh\n",
    "import io\n",
    "from deep_sdf import utils, metrics\n",
    "\n",
    "\n",
    "import os\n",
    "os.environ['PYOPENGL_PLATFORM'] = 'egl'"
   ]
  },
  {
   "cell_type": "code",
   "execution_count": 5,
   "metadata": {},
   "outputs": [],
   "source": [
    "plane_gt = \"/mnt/hdd/ShapeNetCore.v2/02691156/12c82319147385e7ef0e1705c5c9e361/models/model_normalized.obj\"\n",
    "plane_recon = \"examples/plane_ours/TensorBoard/ReconstructionsTrain/02691156_12c82319147385e7ef0e1705c5c9e361/train_mesh_epoch=2020.ply\"\n",
    "plane_recon = \"examples/plane_ours/TensorBoard/ReconstructionsTrain/02691156_12c82319147385e7ef0e1705c5c9e361/train_mesh_epoch=120.ply\""
   ]
  },
  {
   "cell_type": "code",
   "execution_count": 6,
   "metadata": {},
   "outputs": [],
   "source": [
    "gt_mesh = utils.as_mesh(trimesh.load_mesh(plane_gt))\n",
    "recon_mesh = utils.as_mesh(trimesh.load_mesh(plane_recon))"
   ]
  },
  {
   "cell_type": "code",
   "execution_count": 7,
   "metadata": {},
   "outputs": [
    {
     "data": {
      "text/plain": [
       "0.07700319746289094"
      ]
     },
     "execution_count": 7,
     "metadata": {},
     "output_type": "execute_result"
    }
   ],
   "source": [
    "metrics.compute_metric(gt_mesh, recon_mesh)"
   ]
  },
  {
   "cell_type": "code",
   "execution_count": 15,
   "metadata": {},
   "outputs": [
    {
     "ename": "AttributeError",
     "evalue": "'Scene' object has no attribute 'area_faces'",
     "output_type": "error",
     "traceback": [
      "\u001b[0;31m---------------------------------------------------------------------------\u001b[0m",
      "\u001b[0;31mAttributeError\u001b[0m                            Traceback (most recent call last)",
      "\u001b[1;32m/home/wulff/deepsdf/test.ipynb Cell 5\u001b[0m in \u001b[0;36m<cell line: 1>\u001b[0;34m()\u001b[0m\n\u001b[0;32m----> <a href='vscode-notebook-cell://ssh-remote%2Bvc02.vc.in.tum.de/home/wulff/deepsdf/test.ipynb#W5sdnNjb2RlLXJlbW90ZQ%3D%3D?line=0'>1</a>\u001b[0m metrics\u001b[39m.\u001b[39;49mcompute_metric(trimesh\u001b[39m.\u001b[39;49mload_mesh(plane_gt), trimesh\u001b[39m.\u001b[39;49mload_mesh(plane_recon))\n",
      "File \u001b[0;32m~/deepsdf/deep_sdf/metrics/__init__.py:10\u001b[0m, in \u001b[0;36mcompute_metric\u001b[0;34m(gt_mesh, gen_mesh, num_mesh_samples, metric)\u001b[0m\n\u001b[1;32m      8\u001b[0m     gt_mesh \u001b[39m=\u001b[39m as_mesh(trimesh\u001b[39m.\u001b[39mload_mesh(gt_mesh))\n\u001b[1;32m      9\u001b[0m gen_points_sampled \u001b[39m=\u001b[39m trimesh\u001b[39m.\u001b[39msample\u001b[39m.\u001b[39msample_surface(gen_mesh, num_mesh_samples)[\u001b[39m0\u001b[39m]\n\u001b[0;32m---> 10\u001b[0m gt_points_sampled \u001b[39m=\u001b[39m trimesh\u001b[39m.\u001b[39;49msample\u001b[39m.\u001b[39;49msample_surface(gt_mesh, num_mesh_samples)[\u001b[39m0\u001b[39m]\n\u001b[1;32m     11\u001b[0m \u001b[39mif\u001b[39;00m metric \u001b[39m==\u001b[39m \u001b[39m\"\u001b[39m\u001b[39mchamfer\u001b[39m\u001b[39m\"\u001b[39m:\n\u001b[1;32m     12\u001b[0m     \u001b[39mreturn\u001b[39;00m compute_chamfer(gen_points_sampled, gt_points_sampled)\n",
      "File \u001b[0;32m~/anaconda3/envs/deepcomp/lib/python3.8/site-packages/trimesh/sample.py:49\u001b[0m, in \u001b[0;36msample_surface\u001b[0;34m(mesh, count, face_weight, sample_color)\u001b[0m\n\u001b[1;32m     16\u001b[0m \u001b[39m\"\"\"\u001b[39;00m\n\u001b[1;32m     17\u001b[0m \u001b[39mSample the surface of a mesh, returning the specified\u001b[39;00m\n\u001b[1;32m     18\u001b[0m \u001b[39mnumber of points\u001b[39;00m\n\u001b[0;32m   (...)\u001b[0m\n\u001b[1;32m     43\u001b[0m \u001b[39m  Returns only when the sample_color is True\u001b[39;00m\n\u001b[1;32m     44\u001b[0m \u001b[39m\"\"\"\u001b[39;00m\n\u001b[1;32m     46\u001b[0m \u001b[39mif\u001b[39;00m face_weight \u001b[39mis\u001b[39;00m \u001b[39mNone\u001b[39;00m:\n\u001b[1;32m     47\u001b[0m     \u001b[39m# len(mesh.faces) float, array of the areas\u001b[39;00m\n\u001b[1;32m     48\u001b[0m     \u001b[39m# of each face of the mesh\u001b[39;00m\n\u001b[0;32m---> 49\u001b[0m     face_weight \u001b[39m=\u001b[39m mesh\u001b[39m.\u001b[39;49marea_faces\n\u001b[1;32m     51\u001b[0m \u001b[39m# cumulative sum of weights (len(mesh.faces))\u001b[39;00m\n\u001b[1;32m     52\u001b[0m weight_cum \u001b[39m=\u001b[39m np\u001b[39m.\u001b[39mcumsum(face_weight)\n",
      "\u001b[0;31mAttributeError\u001b[0m: 'Scene' object has no attribute 'area_faces'"
     ]
    }
   ],
   "source": [
    "metrics.compute_metric(trimesh.load_mesh(plane_gt), trimesh.load_mesh(plane_recon))\n"
   ]
  },
  {
   "cell_type": "code",
   "execution_count": 2,
   "metadata": {},
   "outputs": [
    {
     "ename": "NameError",
     "evalue": "name 'plane_gt' is not defined",
     "output_type": "error",
     "traceback": [
      "\u001b[0;31m---------------------------------------------------------------------------\u001b[0m",
      "\u001b[0;31mNameError\u001b[0m                                 Traceback (most recent call last)",
      "\u001b[1;32m/home/wulff/deepsdf/test.ipynb Cell 6\u001b[0m in \u001b[0;36m<cell line: 1>\u001b[0;34m()\u001b[0m\n\u001b[0;32m----> <a href='vscode-notebook-cell://ssh-remote%2Bvc02.vc.in.tum.de/home/wulff/deepsdf/test.ipynb#W5sdnNjb2RlLXJlbW90ZQ%3D%3D?line=0'>1</a>\u001b[0m metrics\u001b[39m.\u001b[39mcompute_metric(trimesh\u001b[39m.\u001b[39mload_mesh(plane_gt), trimesh\u001b[39m.\u001b[39mload_mesh(plane_recon))\n",
      "\u001b[0;31mNameError\u001b[0m: name 'plane_gt' is not defined"
     ]
    }
   ],
   "source": [
    "metrics.compute_metric(trimesh.load_mesh(plane_gt), trimesh.load_mesh(plane_recon))\n"
   ]
  },
  {
   "cell_type": "code",
   "execution_count": 4,
   "metadata": {},
   "outputs": [
    {
     "name": "stdout",
     "output_type": "stream",
     "text": [
      "EPOCH:  200\n"
     ]
    },
    {
     "ename": "TypeError",
     "evalue": "unsupported format string passed to tuple.__format__",
     "output_type": "error",
     "traceback": [
      "\u001b[0;31m---------------------------------------------------------------------------\u001b[0m",
      "\u001b[0;31mTypeError\u001b[0m                                 Traceback (most recent call last)",
      "\u001b[1;32m/home/wulff/deepsdf/test.ipynb Cell 7\u001b[0m in \u001b[0;36m<cell line: 1>\u001b[0;34m()\u001b[0m\n\u001b[1;32m     <a href='vscode-notebook-cell://ssh-remote%2Bvc02.vc.in.tum.de/home/wulff/deepsdf/test.ipynb#W6sdnNjb2RlLXJlbW90ZQ%3D%3D?line=13'>14</a>\u001b[0m     recon_mesh \u001b[39m=\u001b[39m utils\u001b[39m.\u001b[39mas_mesh(trimesh\u001b[39m.\u001b[39mload_mesh(recon_path))\n\u001b[1;32m     <a href='vscode-notebook-cell://ssh-remote%2Bvc02.vc.in.tum.de/home/wulff/deepsdf/test.ipynb#W6sdnNjb2RlLXJlbW90ZQ%3D%3D?line=14'>15</a>\u001b[0m     cd \u001b[39m=\u001b[39m metrics\u001b[39m.\u001b[39mcompute_metric(gt_mesh, recon_mesh, num_mesh_samples\u001b[39m=\u001b[39m\u001b[39m30000\u001b[39m)\n\u001b[0;32m---> <a href='vscode-notebook-cell://ssh-remote%2Bvc02.vc.in.tum.de/home/wulff/deepsdf/test.ipynb#W6sdnNjb2RlLXJlbW90ZQ%3D%3D?line=15'>16</a>\u001b[0m     \u001b[39mprint\u001b[39m(\u001b[39mf\u001b[39m\u001b[39m\"\u001b[39m\u001b[39mShape \u001b[39m\u001b[39m{\u001b[39;00mshape_id\u001b[39m}\u001b[39;00m\u001b[39m from class \u001b[39m\u001b[39m{\u001b[39;00mclass_id\u001b[39m}\u001b[39;00m\u001b[39m with CD=\u001b[39m\u001b[39m{\u001b[39;00mcd\u001b[39m:\u001b[39;00m\u001b[39m.3f\u001b[39m\u001b[39m}\u001b[39;00m\u001b[39m\"\u001b[39m)\n\u001b[1;32m     <a href='vscode-notebook-cell://ssh-remote%2Bvc02.vc.in.tum.de/home/wulff/deepsdf/test.ipynb#W6sdnNjb2RlLXJlbW90ZQ%3D%3D?line=16'>17</a>\u001b[0m     cds\u001b[39m.\u001b[39mappend(cd)\n\u001b[1;32m     <a href='vscode-notebook-cell://ssh-remote%2Bvc02.vc.in.tum.de/home/wulff/deepsdf/test.ipynb#W6sdnNjb2RlLXJlbW90ZQ%3D%3D?line=17'>18</a>\u001b[0m \u001b[39mprint\u001b[39m(\u001b[39mf\u001b[39m\u001b[39m\"\u001b[39m\u001b[39mAvg CD=\u001b[39m\u001b[39m{\u001b[39;00m\u001b[39msum\u001b[39m(cds)\u001b[39m/\u001b[39m\u001b[39mlen\u001b[39m(cds)\u001b[39m:\u001b[39;00m\u001b[39m.4f\u001b[39m\u001b[39m}\u001b[39;00m\u001b[39m\"\u001b[39m)\n",
      "\u001b[0;31mTypeError\u001b[0m: unsupported format string passed to tuple.__format__"
     ]
    }
   ],
   "source": [
    "for epoch in [200, 400, 600, 800, 1000]:\n",
    "    print(\"EPOCH: \", epoch)\n",
    "    get_recon_path = lambda class_id, shape_id: f\"/home/shared/deepsdfcomp/searches/ffe_100_shapes/exp_0011_CodeLength=60_encoding_features=23_encoding_sigma=0.783/TensorBoard/ReconstructionsTrain/{class_id}_{shape_id}/epoch={epoch}.ply\"\n",
    "    get_gt_path = lambda class_id, shape_id: f\"/mnt/hdd/ShapeNetCore.v2/{class_id}/{shape_id}/models/model_normalized.obj\"\n",
    "\n",
    "    reconstr_dirs = os.listdir(\"/home/shared/deepsdfcomp/searches/ffe_100_shapes/exp_0011_CodeLength=60_encoding_features=23_encoding_sigma=0.783/TensorBoard/ReconstructionsTrain\")\n",
    "    shapes = [dir_name.split(\"_\") for dir_name in reconstr_dirs]\n",
    "\n",
    "    cds = []\n",
    "    for (class_id, shape_id) in shapes:\n",
    "        gt_path = get_gt_path(class_id, shape_id)\n",
    "        gt_mesh = utils.as_mesh(trimesh.load_mesh(gt_path))\n",
    "        recon_path = get_recon_path(class_id, shape_id)\n",
    "        recon_mesh = utils.as_mesh(trimesh.load_mesh(recon_path))\n",
    "        cd = metrics.compute_metric(gt_mesh, recon_mesh, num_mesh_samples=30000)\n",
    "        print(f\"Shape {shape_id} from class {class_id} with CD={cd:.3f}\")\n",
    "        cds.append(cd)\n",
    "    print(f\"Avg CD={sum(cds)/len(cds):.4f}\")"
   ]
  },
  {
   "cell_type": "code",
   "execution_count": 5,
   "metadata": {},
   "outputs": [
    {
     "data": {
      "text/plain": [
       "[['02691156', '122963149f6a04272620819ddac40644'],\n",
       " ['02691156', '124062ccaeae95085e9e2656aff7dd5b'],\n",
       " ['02691156', '1628b65a9f3cd7c05e9e2656aff7dd5b'],\n",
       " ['02691156', '144070f63941362bd1810447902e2904'],\n",
       " ['02691156', '10cfc2090a2ade124c3a35cee92bb95b']]"
      ]
     },
     "execution_count": 5,
     "metadata": {},
     "output_type": "execute_result"
    }
   ],
   "source": [
    "gt_mesh = utils.as_mesh(trimesh.load_mesh(plane_gt))\n",
    "recon_mesh = utils.as_mesh(trimesh.load_mesh(plane_recon))"
   ]
  },
  {
   "cell_type": "code",
   "execution_count": 3,
   "metadata": {},
   "outputs": [
    {
     "data": {
      "text/plain": [
       "5.876217082101655e-06"
      ]
     },
     "execution_count": 3,
     "metadata": {},
     "output_type": "execute_result"
    }
   ],
   "source": [
    "metrics.compute_metric(gt_mesh, gt_mesh, num_mesh_samples=30000)"
   ]
  },
  {
   "cell_type": "code",
   "execution_count": 5,
   "metadata": {},
   "outputs": [],
   "source": [
    "cd, all_dists = metrics.compute_metric(recon_mesh, recon_mesh, num_mesh_samples=30000)"
   ]
  },
  {
   "cell_type": "code",
   "execution_count": 35,
   "metadata": {},
   "outputs": [
    {
     "data": {
      "text/plain": [
       "array([1.71868840e-05, 1.33383005e-03, 6.24397503e-03])"
      ]
     },
     "execution_count": 35,
     "metadata": {},
     "output_type": "execute_result"
    }
   ],
   "source": [
    "np.percentile(all_dists, [0, 10, 90])"
   ]
  },
  {
   "cell_type": "code",
   "execution_count": 17,
   "metadata": {},
   "outputs": [
    {
     "ename": "TypeError",
     "evalue": "text() missing 2 required positional arguments: 'y' and 's'",
     "output_type": "error",
     "traceback": [
      "\u001b[0;31m---------------------------------------------------------------------------\u001b[0m",
      "\u001b[0;31mTypeError\u001b[0m                                 Traceback (most recent call last)",
      "\u001b[1;32m/home/wulff/deepsdf/test.ipynb Cell 12\u001b[0m in \u001b[0;36m<cell line: 32>\u001b[0;34m()\u001b[0m\n\u001b[1;32m     <a href='vscode-notebook-cell://ssh-remote%2Bvc02.vc.in.tum.de/home/wulff/deepsdf/test.ipynb#X14sdnNjb2RlLXJlbW90ZQ%3D%3D?line=29'>30</a>\u001b[0m ax\u001b[39m.\u001b[39mscatter(\u001b[39m1\u001b[39m, np\u001b[39m.\u001b[39mmean(data), marker\u001b[39m=\u001b[39m\u001b[39m\"\u001b[39m\u001b[39mo\u001b[39m\u001b[39m\"\u001b[39m, color\u001b[39m=\u001b[39m\u001b[39m\"\u001b[39m\u001b[39mred\u001b[39m\u001b[39m\"\u001b[39m, s\u001b[39m=\u001b[39m\u001b[39m100\u001b[39m, zorder\u001b[39m=\u001b[39m\u001b[39m999\u001b[39m, label\u001b[39m=\u001b[39m\u001b[39m\"\u001b[39m\u001b[39mMean (CD)\u001b[39m\u001b[39m\"\u001b[39m)\n\u001b[1;32m     <a href='vscode-notebook-cell://ssh-remote%2Bvc02.vc.in.tum.de/home/wulff/deepsdf/test.ipynb#X14sdnNjb2RlLXJlbW90ZQ%3D%3D?line=30'>31</a>\u001b[0m ax\u001b[39m.\u001b[39mlegend(loc\u001b[39m=\u001b[39m\u001b[39m\"\u001b[39m\u001b[39mbest\u001b[39m\u001b[39m\"\u001b[39m)\n\u001b[0;32m---> <a href='vscode-notebook-cell://ssh-remote%2Bvc02.vc.in.tum.de/home/wulff/deepsdf/test.ipynb#X14sdnNjb2RlLXJlbW90ZQ%3D%3D?line=31'>32</a>\u001b[0m ax\u001b[39m.\u001b[39;49mtext(\u001b[39m\"\u001b[39;49m\u001b[39m*CD = Chamfer Distance\u001b[39;49m\u001b[39m\"\u001b[39;49m, xy\u001b[39m=\u001b[39;49m\u001b[39m\"\u001b[39;49m\u001b[39mleft bottom\u001b[39;49m\u001b[39m\"\u001b[39;49m)\n\u001b[1;32m     <a href='vscode-notebook-cell://ssh-remote%2Bvc02.vc.in.tum.de/home/wulff/deepsdf/test.ipynb#X14sdnNjb2RlLXJlbW90ZQ%3D%3D?line=33'>34</a>\u001b[0m \u001b[39mfor\u001b[39;00m vp \u001b[39min\u001b[39;00m vplot[\u001b[39m\"\u001b[39m\u001b[39mbodies\u001b[39m\u001b[39m\"\u001b[39m]:\n\u001b[1;32m     <a href='vscode-notebook-cell://ssh-remote%2Bvc02.vc.in.tum.de/home/wulff/deepsdf/test.ipynb#X14sdnNjb2RlLXJlbW90ZQ%3D%3D?line=34'>35</a>\u001b[0m     vp\u001b[39m.\u001b[39mset_facecolor(\u001b[39m\"\u001b[39m\u001b[39mcornflowerblue\u001b[39m\u001b[39m\"\u001b[39m)\n",
      "\u001b[0;31mTypeError\u001b[0m: text() missing 2 required positional arguments: 'y' and 's'"
     ]
    },
    {
     "data": {
      "image/png": "[encoded data removed]",
      "text/plain": [
       "<Figure size 432x288 with 1 Axes>"
      ]
     },
     "metadata": {
      "needs_background": "light"
     },
     "output_type": "display_data"
    }
   ],
   "source": [
    "fig, ax = plt.subplots(1, 1)\n",
    "ax.set_ylabel(\"Distance to NN\")\n",
    "ax.set_title(\"Nearest Neighbor Distances (Two-way)\")\n",
    "ax.set_xticks([])\n",
    "#ax.set_xlim(0.5, 1.5)\n",
    "data = all_dists\n",
    "\n",
    "def adjacent_values(vals, q1, q3):\n",
    "    upper_adjacent_value = q3 + (q3 - q1) * 1.5\n",
    "    upper_adjacent_value = np.clip(upper_adjacent_value, q3, vals[-1])\n",
    "\n",
    "    lower_adjacent_value = q1 - (q3 - q1) * 1.5\n",
    "    lower_adjacent_value = np.clip(lower_adjacent_value, vals[0], q1)\n",
    "    return lower_adjacent_value, upper_adjacent_value\n",
    "\n",
    "vplot = ax.violinplot(data, showmeans=False, showextrema=True)\n",
    "vplot[\"cmaxes\"].set_edgecolor(\"darkblue\")\n",
    "vplot[\"cmins\"].set_edgecolor(\"darkblue\")\n",
    "vplot[\"cbars\"].set_edgecolor(\"darkblue\")\n",
    "\n",
    "percentile_keys = [50, 75, 90, 99]\n",
    "percentiles = np.percentile(data, percentile_keys)\n",
    "percentiles = {k: p for k, p in zip(percentile_keys, percentiles)}\n",
    "\n",
    "for k, p in percentiles.items():\n",
    "    k = f\"{k}th percentile\" if k!=50 else \"Median\"\n",
    "    ax.hlines([p], xmin=[0.9], xmax=[1.1], linestyles=\"--\", label=k)\n",
    "    ax.annotate(f\"{p:.4f}\", xy=[1.1, p], va=\"center\")\n",
    "\n",
    "ax.scatter(1, np.mean(data), marker=\"o\", color=\"red\", s=100, zorder=999, label=\"Mean (CD)\")\n",
    "ax.legend(loc=\"best\")\n",
    "\n",
    "for vp in vplot[\"bodies\"]:\n",
    "    vp.set_facecolor(\"cornflowerblue\")\n",
    "    vp.set_zorder(2)\n",
    "    vp.set_alpha(1)\n",
    "    vp.set_linewidth(1)\n",
    "\n",
    "# Reduce the length of horizontal lines \n",
    "# (from: https://matplotlib.org/stable/gallery/statistics/customized_violin.html#sphx-glr-gallery-statistics-customized-violin-py)\n",
    "factor_x, factor_y = 0.3, 1 # factor to reduce the lengths\n",
    "for vp_part in (\"cbars\", \"cmaxes\", \"cmins\"):\n",
    "    vp = vplot[vp_part]\n",
    "    if vp_part in (\"cmaxes\", \"cmins\"):\n",
    "        lines = vp.get_segments()\n",
    "        new_lines = []\n",
    "        for line in lines:\n",
    "            center = line.mean(axis=0)\n",
    "            line = (line - center) * np.array([factor_x, factor_y]) + center\n",
    "            new_lines.append(line)\n",
    "        vp.set_segments(new_lines)\n",
    "    vp.set_edgecolor(\"black\")"
   ]
  },
  {
   "cell_type": "code",
   "execution_count": 62,
   "metadata": {},
   "outputs": [
    {
     "data": {
      "text/plain": [
       "{'bodies': [<matplotlib.collections.PolyCollection at 0x7f7a57cbee20>],\n",
       " 'cmaxes': <matplotlib.collections.LineCollection at 0x7f7a57cbecd0>,\n",
       " 'cmins': <matplotlib.collections.LineCollection at 0x7f7a57c484c0>,\n",
       " 'cbars': <matplotlib.collections.LineCollection at 0x7f7a57c48880>}"
      ]
     },
     "execution_count": 62,
     "metadata": {},
     "output_type": "execute_result"
    }
   ],
   "source": [
    "vp"
   ]
  },
  {
   "cell_type": "code",
   "execution_count": null,
   "metadata": {},
   "outputs": [],
   "source": []
  }
 ],
 "metadata": {
  "kernelspec": {
   "display_name": "deepcomp",
   "language": "python",
   "name": "python3"
  },
  "language_info": {
   "codemirror_mode": {
    "name": "ipython",
    "version": 3
   },
   "file_extension": ".py",
   "mimetype": "text/x-python",
   "name": "python",
   "nbconvert_exporter": "python",
   "pygments_lexer": "ipython3",
   "version": "3.8.15"
  },
  "orig_nbformat": 4,
  "vscode": {
   "interpreter": {
    "hash": "a05216e539e1906d6eb0aedc41e60145a0e2fc0e5ddc7cc88e835ca88506d385"
   }
  }
 },
 "nbformat": 4,
 "nbformat_minor": 2
}
