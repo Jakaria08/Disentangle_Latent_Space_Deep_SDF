{
 "cells": [
  {
   "cell_type": "code",
   "execution_count": 4,
   "metadata": {},
   "outputs": [],
   "source": [
    "%load_ext autoreload\n",
    "%autoreload 2\n",
    "\n",
    "import matplotlib.animation as animation\n",
    "\n",
    "from torch.utils.data import Dataset\n",
    "import binvox\n",
    "import os\n",
    "import json\n",
    "import trimesh\n",
    "import skimage\n",
    "import random\n",
    "from mesh_to_sdf import mesh_to_voxels, sample_sdf_near_surface, scale_to_unit_sphere\n",
    "import mesh_to_sdf\n",
    "import pyrender\n",
    "import numpy as np\n",
    "import matplotlib.pyplot as plt\n",
    "import trimesh\n",
    "import io\n",
    "from deep_sdf import utils, metrics\n",
    "\n",
    "\n",
    "import os\n",
    "os.environ['PYOPENGL_PLATFORM'] = 'egl'"
   ]
  },
  {
   "cell_type": "code",
   "execution_count": 5,
   "metadata": {},
   "outputs": [],
   "source": [
    "plane_gt = \"/mnt/hdd/ShapeNetCore.v2/02691156/12c82319147385e7ef0e1705c5c9e361/models/model_normalized.obj\"\n",
    "plane_recon = \"examples/plane_ours/TensorBoard/ReconstructionsTrain/02691156_12c82319147385e7ef0e1705c5c9e361/train_mesh_epoch=2020.ply\"\n",
    "plane_recon = \"examples/plane_ours/TensorBoard/ReconstructionsTrain/02691156_12c82319147385e7ef0e1705c5c9e361/train_mesh_epoch=120.ply\""
   ]
  },
  {
   "cell_type": "code",
   "execution_count": 6,
   "metadata": {},
   "outputs": [],
   "source": [
    "gt_mesh = utils.as_mesh(trimesh.load_mesh(plane_gt))\n",
    "recon_mesh = utils.as_mesh(trimesh.load_mesh(plane_recon))"
   ]
  },
  {
   "cell_type": "code",
   "execution_count": 7,
   "metadata": {},
   "outputs": [
    {
     "data": {
      "text/plain": [
       "0.07700319746289094"
      ]
     },
     "execution_count": 7,
     "metadata": {},
     "output_type": "execute_result"
    }
   ],
   "source": [
    "metrics.compute_metric(gt_mesh, recon_mesh)"
   ]
  },
  {
   "cell_type": "code",
   "execution_count": 15,
   "metadata": {},
   "outputs": [
    {
     "ename": "AttributeError",
     "evalue": "'Scene' object has no attribute 'area_faces'",
     "output_type": "error",
     "traceback": [
      "\u001b[0;31m---------------------------------------------------------------------------\u001b[0m",
      "\u001b[0;31mAttributeError\u001b[0m                            Traceback (most recent call last)",
      "\u001b[1;32m/home/wulff/deepsdf/test.ipynb Cell 5\u001b[0m in \u001b[0;36m<cell line: 1>\u001b[0;34m()\u001b[0m\n\u001b[0;32m----> <a href='vscode-notebook-cell://ssh-remote%2Bvc02.vc.in.tum.de/home/wulff/deepsdf/test.ipynb#W5sdnNjb2RlLXJlbW90ZQ%3D%3D?line=0'>1</a>\u001b[0m metrics\u001b[39m.\u001b[39;49mcompute_metric(trimesh\u001b[39m.\u001b[39;49mload_mesh(plane_gt), trimesh\u001b[39m.\u001b[39;49mload_mesh(plane_recon))\n",
      "File \u001b[0;32m~/deepsdf/deep_sdf/metrics/__init__.py:10\u001b[0m, in \u001b[0;36mcompute_metric\u001b[0;34m(gt_mesh, gen_mesh, num_mesh_samples, metric)\u001b[0m\n\u001b[1;32m      8\u001b[0m     gt_mesh \u001b[39m=\u001b[39m as_mesh(trimesh\u001b[39m.\u001b[39mload_mesh(gt_mesh))\n\u001b[1;32m      9\u001b[0m gen_points_sampled \u001b[39m=\u001b[39m trimesh\u001b[39m.\u001b[39msample\u001b[39m.\u001b[39msample_surface(gen_mesh, num_mesh_samples)[\u001b[39m0\u001b[39m]\n\u001b[0;32m---> 10\u001b[0m gt_points_sampled \u001b[39m=\u001b[39m trimesh\u001b[39m.\u001b[39;49msample\u001b[39m.\u001b[39;49msample_surface(gt_mesh, num_mesh_samples)[\u001b[39m0\u001b[39m]\n\u001b[1;32m     11\u001b[0m \u001b[39mif\u001b[39;00m metric \u001b[39m==\u001b[39m \u001b[39m\"\u001b[39m\u001b[39mchamfer\u001b[39m\u001b[39m\"\u001b[39m:\n\u001b[1;32m     12\u001b[0m     \u001b[39mreturn\u001b[39;00m compute_chamfer(gen_points_sampled, gt_points_sampled)\n",
      "File \u001b[0;32m~/anaconda3/envs/deepcomp/lib/python3.8/site-packages/trimesh/sample.py:49\u001b[0m, in \u001b[0;36msample_surface\u001b[0;34m(mesh, count, face_weight, sample_color)\u001b[0m\n\u001b[1;32m     16\u001b[0m \u001b[39m\"\"\"\u001b[39;00m\n\u001b[1;32m     17\u001b[0m \u001b[39mSample the surface of a mesh, returning the specified\u001b[39;00m\n\u001b[1;32m     18\u001b[0m \u001b[39mnumber of points\u001b[39;00m\n\u001b[0;32m   (...)\u001b[0m\n\u001b[1;32m     43\u001b[0m \u001b[39m  Returns only when the sample_color is True\u001b[39;00m\n\u001b[1;32m     44\u001b[0m \u001b[39m\"\"\"\u001b[39;00m\n\u001b[1;32m     46\u001b[0m \u001b[39mif\u001b[39;00m face_weight \u001b[39mis\u001b[39;00m \u001b[39mNone\u001b[39;00m:\n\u001b[1;32m     47\u001b[0m     \u001b[39m# len(mesh.faces) float, array of the areas\u001b[39;00m\n\u001b[1;32m     48\u001b[0m     \u001b[39m# of each face of the mesh\u001b[39;00m\n\u001b[0;32m---> 49\u001b[0m     face_weight \u001b[39m=\u001b[39m mesh\u001b[39m.\u001b[39;49marea_faces\n\u001b[1;32m     51\u001b[0m \u001b[39m# cumulative sum of weights (len(mesh.faces))\u001b[39;00m\n\u001b[1;32m     52\u001b[0m weight_cum \u001b[39m=\u001b[39m np\u001b[39m.\u001b[39mcumsum(face_weight)\n",
      "\u001b[0;31mAttributeError\u001b[0m: 'Scene' object has no attribute 'area_faces'"
     ]
    }
   ],
   "source": [
    "metrics.compute_metric(trimesh.load_mesh(plane_gt), trimesh.load_mesh(plane_recon))\n"
   ]
  },
  {
   "cell_type": "code",
   "execution_count": null,
   "metadata": {},
   "outputs": [],
   "source": []
  }
 ],
 "metadata": {
  "kernelspec": {
   "display_name": "deepcomp",
   "language": "python",
   "name": "python3"
  },
  "language_info": {
   "codemirror_mode": {
    "name": "ipython",
    "version": 3
   },
   "file_extension": ".py",
   "mimetype": "text/x-python",
   "name": "python",
   "nbconvert_exporter": "python",
   "pygments_lexer": "ipython3",
   "version": "3.8.15"
  },
  "orig_nbformat": 4,
  "vscode": {
   "interpreter": {
    "hash": "a05216e539e1906d6eb0aedc41e60145a0e2fc0e5ddc7cc88e835ca88506d385"
   }
  }
 },
 "nbformat": 4,
 "nbformat_minor": 2
}
